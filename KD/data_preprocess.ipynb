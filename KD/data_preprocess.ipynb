{
 "cells": [
  {
   "cell_type": "markdown",
   "source": [
    "# 모델 및 토크나이저 정의"
   ],
   "metadata": {
    "collapsed": false
   }
  },
  {
   "cell_type": "code",
   "execution_count": 1,
   "metadata": {
    "collapsed": true,
    "ExecuteTime": {
     "start_time": "2023-12-29T23:52:11.654657Z",
     "end_time": "2023-12-29T23:52:13.188265Z"
    }
   },
   "outputs": [],
   "source": [
    "import numpy as np\n",
    "from datasets import load_dataset, load_metric\n",
    "from transformers import AutoTokenizer, DataCollatorWithPadding, AutoModelForMaskedLM, AdamW, get_scheduler\n",
    "import datasets\n",
    "import torch\n",
    "from transformers import DataCollatorForLanguageModeling\n",
    "from transformers import pipeline\n",
    "from kobert_tokenizer import KoBERTTokenizer\n",
    "from transformers import TrainingArguments\n",
    "from transformers import Trainer\n",
    "import collections\n",
    "import numpy as np\n",
    "from transformers import default_data_collator"
   ]
  },
  {
   "cell_type": "code",
   "execution_count": 2,
   "outputs": [
    {
     "name": "stderr",
     "output_type": "stream",
     "text": [
      "The tokenizer class you load from this checkpoint is not the same type as the class this function is called from. It may result in unexpected tokenization. \n",
      "The tokenizer class you load from this checkpoint is 'XLNetTokenizer'. \n",
      "The class this function is called from is 'KoBERTTokenizer'.\n"
     ]
    }
   ],
   "source": [
    "# student 모델 및 토크나이저 불러오기\n",
    "stu_checkpoint = \"monologg/distilkobert\"\n",
    "stu_model = AutoModelForMaskedLM.from_pretrained(stu_checkpoint)\n",
    "stu_tokenizer = KoBERTTokenizer.from_pretrained(\"skt/kobert-base-v1\")\n",
    "stu_makes_answers_of = pipeline(task='fill-mask', model=stu_model, tokenizer=stu_tokenizer)"
   ],
   "metadata": {
    "collapsed": false,
    "ExecuteTime": {
     "start_time": "2023-12-29T23:52:22.863060Z",
     "end_time": "2023-12-29T23:52:23.796556Z"
    }
   }
  },
  {
   "cell_type": "markdown",
   "source": [
    "# 데이터셋 로드"
   ],
   "metadata": {
    "collapsed": false
   }
  },
  {
   "cell_type": "code",
   "execution_count": 3,
   "outputs": [
    {
     "name": "stderr",
     "output_type": "stream",
     "text": [
      "Found cached dataset csv (/Users/serimkim/.cache/huggingface/datasets/starmpcc___csv/starmpcc--Asclepius-Synthetic-Clinical-Notes-819afb51239148d3/0.0.0/6954658bab30a358235fa864b05cf819af0e179325c740e4bc853bcc7ec513e1)\n"
     ]
    },
    {
     "data": {
      "text/plain": "  0%|          | 0/1 [00:00<?, ?it/s]",
      "application/vnd.jupyter.widget-view+json": {
       "version_major": 2,
       "version_minor": 0,
       "model_id": "5d069bc1b5b94e86a09540d1048718c0"
      }
     },
     "metadata": {},
     "output_type": "display_data"
    },
    {
     "data": {
      "text/plain": "DatasetDict({\n    train: Dataset({\n        features: ['patient_id', 'note', 'question', 'answer', 'task'],\n        num_rows: 158114\n    })\n})"
     },
     "execution_count": 3,
     "metadata": {},
     "output_type": "execute_result"
    }
   ],
   "source": [
    "# fine-tuning용 데이터 로드\n",
    "from datasets import load_dataset\n",
    "\n",
    "clinical_dataset = load_dataset(\"starmpcc/Asclepius-Synthetic-Clinical-Notes\")\n",
    "clinical_dataset"
   ],
   "metadata": {
    "collapsed": false,
    "ExecuteTime": {
     "start_time": "2023-12-29T23:52:30.071477Z",
     "end_time": "2023-12-29T23:52:32.445721Z"
    }
   }
  },
  {
   "cell_type": "markdown",
   "source": [
    "# text 길이조정"
   ],
   "metadata": {
    "collapsed": false
   }
  },
  {
   "cell_type": "code",
   "execution_count": 4,
   "outputs": [
    {
     "name": "stderr",
     "output_type": "stream",
     "text": [
      "Loading cached processed dataset at /Users/serimkim/.cache/huggingface/datasets/starmpcc___csv/starmpcc--Asclepius-Synthetic-Clinical-Notes-819afb51239148d3/0.0.0/6954658bab30a358235fa864b05cf819af0e179325c740e4bc853bcc7ec513e1/cache-06fc11057ad6cd70.arrow\n"
     ]
    },
    {
     "data": {
      "text/plain": "DatasetDict({\n    train: Dataset({\n        features: ['note'],\n        num_rows: 158114\n    })\n})"
     },
     "execution_count": 4,
     "metadata": {},
     "output_type": "execute_result"
    }
   ],
   "source": [
    "# 문장 앞 뒤 토큰 추가 후, 텍스트 리스트화\n",
    "def into_list(example):\n",
    "  return {\"note\": (\"[CLS] \"+example[\"note\"]+\" [SEP]\").split()}\n",
    "\n",
    "clinical_dataset = clinical_dataset.map(into_list, remove_columns=[\"patient_id\", \"question\", \"answer\", \"task\"])\n",
    "clinical_dataset"
   ],
   "metadata": {
    "collapsed": false,
    "ExecuteTime": {
     "start_time": "2023-12-29T23:52:35.547268Z",
     "end_time": "2023-12-29T23:52:35.581937Z"
    }
   }
  },
  {
   "cell_type": "code",
   "execution_count": 5,
   "outputs": [
    {
     "name": "stderr",
     "output_type": "stream",
     "text": [
      "Loading cached processed dataset at /Users/serimkim/.cache/huggingface/datasets/starmpcc___csv/starmpcc--Asclepius-Synthetic-Clinical-Notes-819afb51239148d3/0.0.0/6954658bab30a358235fa864b05cf819af0e179325c740e4bc853bcc7ec513e1/cache-62b2ff216bedaac8.arrow\n"
     ]
    },
    {
     "data": {
      "text/plain": "DatasetDict({\n    train: Dataset({\n        features: ['note'],\n        num_rows: 1380484\n    })\n})"
     },
     "execution_count": 5,
     "metadata": {},
     "output_type": "execute_result"
    }
   ],
   "source": [
    "# 길이 32으로 재구성\n",
    "chunk_size = 32\n",
    "def split_texts(examples):\n",
    "    # 모든 텍스트들을 결합한다.\n",
    "    concatenated_examples = {k: sum(examples[k], []) for k in examples.keys()}\n",
    "    # 결합된 텍스트들에 대한 길이를 구한다.\n",
    "    total_length = len(concatenated_examples[list(examples.keys())[0]])\n",
    "    # `chunk_size`보다 작은 경우 마지막 청크를 삭제\n",
    "    total_length = (total_length // chunk_size) * chunk_size\n",
    "    # max_len 길이를 가지는 chunk 단위로 슬라이스\n",
    "    result = {\n",
    "        k: [t[i : i + chunk_size] for i in range(0, total_length, chunk_size)]\n",
    "        for k, t in concatenated_examples.items()\n",
    "    }\n",
    "    return result\n",
    "\n",
    "new_datasets = clinical_dataset.map(split_texts, batched=True)\n",
    "new_datasets"
   ],
   "metadata": {
    "collapsed": false,
    "ExecuteTime": {
     "start_time": "2023-12-29T23:52:37.457134Z",
     "end_time": "2023-12-29T23:52:37.484326Z"
    }
   }
  },
  {
   "cell_type": "markdown",
   "source": [
    "# 토큰화"
   ],
   "metadata": {
    "collapsed": false
   }
  },
  {
   "cell_type": "code",
   "execution_count": 6,
   "outputs": [
    {
     "data": {
      "text/plain": "Map:   0%|          | 0/1380484 [00:00<?, ? examples/s]",
      "application/vnd.jupyter.widget-view+json": {
       "version_major": 2,
       "version_minor": 0,
       "model_id": "5f8a3c3731ca4ac7a6d3dd565b9e95a0"
      }
     },
     "metadata": {},
     "output_type": "display_data"
    },
    {
     "data": {
      "text/plain": "DatasetDict({\n    train: Dataset({\n        features: ['note', 'input_ids', 'token_type_ids', 'attention_mask', 'word_ids'],\n        num_rows: 1380484\n    })\n})"
     },
     "execution_count": 6,
     "metadata": {},
     "output_type": "execute_result"
    }
   ],
   "source": [
    "def tokenize_function(examples):\n",
    "    result = stu_tokenizer(examples['note'], add_special_tokens=False)\n",
    "    '''\n",
    "    tokenizer(sample[\"text\"])의 출력물:\n",
    "    {'input_ids': [[input_ids_of_sample1], [input_ids_of_sample1], ...],\n",
    "    'attention_mask': [[attention_masks_of_sample1], [attention_masks_of_sample1], ...]}\n",
    "    '''\n",
    "    result['word_ids'] = [[i]*len(result['input_ids'][i]) for i in range(32)]  # 단어 수 맞추어 숫자 변경\n",
    "    return result\n",
    "\n",
    "# 빠른 멀티스레딩을 작동시키기 위해서, batched=True를 지정합니다.\n",
    "tokenized_dataset = new_datasets.map(\n",
    "    tokenize_function\n",
    ")\n",
    "tokenized_dataset"
   ],
   "metadata": {
    "collapsed": false,
    "ExecuteTime": {
     "start_time": "2023-12-29T23:52:44.298101Z",
     "end_time": "2023-12-30T00:10:03.734196Z"
    }
   }
  },
  {
   "cell_type": "code",
   "execution_count": null,
   "outputs": [],
   "source": [
    "tokenized_dataset['train'][0]"
   ],
   "metadata": {
    "collapsed": false,
    "ExecuteTime": {
     "start_time": "2023-12-19T05:53:12.156525Z",
     "end_time": "2023-12-19T05:53:12.162220Z"
    }
   }
  },
  {
   "cell_type": "markdown",
   "source": [],
   "metadata": {
    "collapsed": false
   }
  },
  {
   "cell_type": "code",
   "execution_count": 7,
   "outputs": [
    {
     "data": {
      "text/plain": "Map:   0%|          | 0/1380484 [00:00<?, ? examples/s]",
      "application/vnd.jupyter.widget-view+json": {
       "version_major": 2,
       "version_minor": 0,
       "model_id": "cae4f29510c3436ea6ec2eebc87e2b84"
      }
     },
     "metadata": {},
     "output_type": "display_data"
    },
    {
     "data": {
      "text/plain": "DatasetDict({\n    train: Dataset({\n        features: ['input_ids', 'token_type_ids', 'attention_mask', 'word_ids', 'labels'],\n        num_rows: 1380484\n    })\n})"
     },
     "execution_count": 7,
     "metadata": {},
     "output_type": "execute_result"
    }
   ],
   "source": [
    "def concat_texts(tokenized_dataset):\n",
    "    tokenized_dataset['input_ids'] = [token for sublist in tokenized_dataset['input_ids'] for token in sublist]\n",
    "    tokenized_dataset['token_type_ids'] = [token for sublist in tokenized_dataset['token_type_ids'] for token in sublist]\n",
    "    tokenized_dataset['attention_mask'] = [token for sublist in tokenized_dataset['attention_mask'] for token in sublist]\n",
    "    tokenized_dataset['word_ids'] = [token for sublist in tokenized_dataset['word_ids'] for token in sublist]\n",
    "    tokenized_dataset['labels'] = tokenized_dataset['input_ids']\n",
    "    return tokenized_dataset\n",
    "\n",
    "concated_dataset = tokenized_dataset.map(\n",
    "    concat_texts, remove_columns=[\"note\"]\n",
    ")\n",
    "concated_dataset"
   ],
   "metadata": {
    "collapsed": false,
    "ExecuteTime": {
     "start_time": "2023-12-30T00:10:33.741145Z",
     "end_time": "2023-12-30T00:16:32.200752Z"
    }
   }
  },
  {
   "cell_type": "code",
   "execution_count": 8,
   "outputs": [
    {
     "data": {
      "text/plain": "{'input_ids': [2,\n  644,\n  412,\n  383,\n  375,\n  399,\n  389,\n  687,\n  448,\n  423,\n  375,\n  458,\n  249,\n  681,\n  377,\n  405,\n  393,\n  249,\n  618,\n  47,\n  458,\n  389,\n  375,\n  47,\n  428,\n  388,\n  517,\n  423,\n  371,\n  389,\n  517,\n  455,\n  405,\n  444,\n  517,\n  423,\n  427,\n  388,\n  394,\n  377,\n  389,\n  517,\n  267,\n  278,\n  343,\n  517,\n  398,\n  439,\n  423,\n  638,\n  329,\n  357,\n  296,\n  278,\n  47,\n  116,\n  652,\n  427,\n  440,\n  432,\n  413,\n  371,\n  638,\n  427,\n  450,\n  440,\n  389,\n  249,\n  517,\n  355,\n  517,\n  432,\n  377,\n  405,\n  393,\n  517,\n  455,\n  376,\n  517,\n  370,\n  423,\n  413,\n  442,\n  390,\n  709,\n  708,\n  517,\n  403,\n  440,\n  432,\n  413,\n  371,\n  517,\n  455,\n  405,\n  444,\n  517,\n  440,\n  458,\n  423,\n  432,\n  442,\n  427,\n  423,\n  440,\n  707,\n  517,\n  398,\n  389,\n  454,\n  46,\n  517,\n  388,\n  435,\n  458,\n  517,\n  385,\n  446,\n  399,\n  401,\n  46,\n  704,\n  517,\n  388,\n  458,\n  440,\n  432,\n  425,\n  389,\n  367,\n  54,\n  644,\n  450,\n  410,\n  517,\n  432,\n  401,\n  458,\n  440,\n  406,\n  371,\n  708,\n  436,\n  432,\n  458,\n  517,\n  429],\n 'token_type_ids': [0,\n  0,\n  0,\n  0,\n  0,\n  0,\n  0,\n  0,\n  0,\n  0,\n  0,\n  0,\n  0,\n  0,\n  0,\n  0,\n  0,\n  0,\n  0,\n  0,\n  0,\n  0,\n  0,\n  0,\n  0,\n  0,\n  0,\n  0,\n  0,\n  0,\n  0,\n  0,\n  0,\n  0,\n  0,\n  0,\n  0,\n  0,\n  0,\n  0,\n  0,\n  0,\n  0,\n  0,\n  0,\n  0,\n  0,\n  0,\n  0,\n  0,\n  0,\n  0,\n  0,\n  0,\n  0,\n  0,\n  0,\n  0,\n  0,\n  0,\n  0,\n  0,\n  0,\n  0,\n  0,\n  0,\n  0,\n  0,\n  0,\n  0,\n  0,\n  0,\n  0,\n  0,\n  0,\n  0,\n  0,\n  0,\n  0,\n  0,\n  0,\n  0,\n  0,\n  0,\n  0,\n  0,\n  0,\n  0,\n  0,\n  0,\n  0,\n  0,\n  0,\n  0,\n  0,\n  0,\n  0,\n  0,\n  0,\n  0,\n  0,\n  0,\n  0,\n  0,\n  0,\n  0,\n  0,\n  0,\n  0,\n  0,\n  0,\n  0,\n  0,\n  0,\n  0,\n  0,\n  0,\n  0,\n  0,\n  0,\n  0,\n  0,\n  0,\n  0,\n  0,\n  0,\n  0,\n  0,\n  0,\n  0,\n  0,\n  0,\n  0,\n  0,\n  0,\n  0,\n  0,\n  0,\n  0,\n  0,\n  0,\n  0,\n  0,\n  0,\n  0,\n  0,\n  0],\n 'attention_mask': [1,\n  1,\n  1,\n  1,\n  1,\n  1,\n  1,\n  1,\n  1,\n  1,\n  1,\n  1,\n  1,\n  1,\n  1,\n  1,\n  1,\n  1,\n  1,\n  1,\n  1,\n  1,\n  1,\n  1,\n  1,\n  1,\n  1,\n  1,\n  1,\n  1,\n  1,\n  1,\n  1,\n  1,\n  1,\n  1,\n  1,\n  1,\n  1,\n  1,\n  1,\n  1,\n  1,\n  1,\n  1,\n  1,\n  1,\n  1,\n  1,\n  1,\n  1,\n  1,\n  1,\n  1,\n  1,\n  1,\n  1,\n  1,\n  1,\n  1,\n  1,\n  1,\n  1,\n  1,\n  1,\n  1,\n  1,\n  1,\n  1,\n  1,\n  1,\n  1,\n  1,\n  1,\n  1,\n  1,\n  1,\n  1,\n  1,\n  1,\n  1,\n  1,\n  1,\n  1,\n  1,\n  1,\n  1,\n  1,\n  1,\n  1,\n  1,\n  1,\n  1,\n  1,\n  1,\n  1,\n  1,\n  1,\n  1,\n  1,\n  1,\n  1,\n  1,\n  1,\n  1,\n  1,\n  1,\n  1,\n  1,\n  1,\n  1,\n  1,\n  1,\n  1,\n  1,\n  1,\n  1,\n  1,\n  1,\n  1,\n  1,\n  1,\n  1,\n  1,\n  1,\n  1,\n  1,\n  1,\n  1,\n  1,\n  1,\n  1,\n  1,\n  1,\n  1,\n  1,\n  1,\n  1,\n  1,\n  1,\n  1,\n  1,\n  1,\n  1,\n  1,\n  1,\n  1],\n 'word_ids': [0,\n  1,\n  1,\n  1,\n  1,\n  1,\n  1,\n  2,\n  2,\n  2,\n  2,\n  2,\n  2,\n  3,\n  3,\n  3,\n  3,\n  3,\n  4,\n  4,\n  4,\n  4,\n  4,\n  4,\n  4,\n  4,\n  5,\n  5,\n  5,\n  5,\n  6,\n  6,\n  6,\n  6,\n  7,\n  7,\n  7,\n  7,\n  7,\n  7,\n  7,\n  8,\n  8,\n  8,\n  8,\n  9,\n  9,\n  9,\n  9,\n  10,\n  10,\n  10,\n  10,\n  10,\n  10,\n  10,\n  11,\n  11,\n  11,\n  11,\n  11,\n  11,\n  12,\n  12,\n  12,\n  12,\n  12,\n  12,\n  13,\n  13,\n  14,\n  14,\n  14,\n  14,\n  14,\n  15,\n  15,\n  15,\n  16,\n  16,\n  16,\n  16,\n  16,\n  16,\n  17,\n  18,\n  19,\n  19,\n  19,\n  19,\n  19,\n  19,\n  20,\n  20,\n  20,\n  20,\n  21,\n  21,\n  21,\n  21,\n  21,\n  21,\n  21,\n  21,\n  21,\n  22,\n  23,\n  23,\n  23,\n  23,\n  23,\n  24,\n  24,\n  24,\n  24,\n  25,\n  25,\n  25,\n  25,\n  25,\n  25,\n  26,\n  27,\n  27,\n  27,\n  27,\n  27,\n  27,\n  27,\n  27,\n  27,\n  28,\n  28,\n  28,\n  29,\n  29,\n  29,\n  29,\n  29,\n  29,\n  29,\n  30,\n  30,\n  30,\n  30,\n  31,\n  31],\n 'labels': [2,\n  644,\n  412,\n  383,\n  375,\n  399,\n  389,\n  687,\n  448,\n  423,\n  375,\n  458,\n  249,\n  681,\n  377,\n  405,\n  393,\n  249,\n  618,\n  47,\n  458,\n  389,\n  375,\n  47,\n  428,\n  388,\n  517,\n  423,\n  371,\n  389,\n  517,\n  455,\n  405,\n  444,\n  517,\n  423,\n  427,\n  388,\n  394,\n  377,\n  389,\n  517,\n  267,\n  278,\n  343,\n  517,\n  398,\n  439,\n  423,\n  638,\n  329,\n  357,\n  296,\n  278,\n  47,\n  116,\n  652,\n  427,\n  440,\n  432,\n  413,\n  371,\n  638,\n  427,\n  450,\n  440,\n  389,\n  249,\n  517,\n  355,\n  517,\n  432,\n  377,\n  405,\n  393,\n  517,\n  455,\n  376,\n  517,\n  370,\n  423,\n  413,\n  442,\n  390,\n  709,\n  708,\n  517,\n  403,\n  440,\n  432,\n  413,\n  371,\n  517,\n  455,\n  405,\n  444,\n  517,\n  440,\n  458,\n  423,\n  432,\n  442,\n  427,\n  423,\n  440,\n  707,\n  517,\n  398,\n  389,\n  454,\n  46,\n  517,\n  388,\n  435,\n  458,\n  517,\n  385,\n  446,\n  399,\n  401,\n  46,\n  704,\n  517,\n  388,\n  458,\n  440,\n  432,\n  425,\n  389,\n  367,\n  54,\n  644,\n  450,\n  410,\n  517,\n  432,\n  401,\n  458,\n  440,\n  406,\n  371,\n  708,\n  436,\n  432,\n  458,\n  517,\n  429]}"
     },
     "execution_count": 8,
     "metadata": {},
     "output_type": "execute_result"
    }
   ],
   "source": [
    "concated_dataset['train'][0]"
   ],
   "metadata": {
    "collapsed": false,
    "ExecuteTime": {
     "start_time": "2023-12-30T00:20:35.725507Z",
     "end_time": "2023-12-30T00:20:35.730477Z"
    }
   }
  },
  {
   "cell_type": "markdown",
   "source": [
    "# 데이터셋 저장"
   ],
   "metadata": {
    "collapsed": false
   }
  },
  {
   "cell_type": "code",
   "execution_count": 9,
   "outputs": [
    {
     "data": {
      "text/plain": "Saving the dataset (0/17 shards):   0%|          | 0/1380484 [00:00<?, ? examples/s]",
      "application/vnd.jupyter.widget-view+json": {
       "version_major": 2,
       "version_minor": 0,
       "model_id": "c19508d129dc467683ad60a19516eec8"
      }
     },
     "metadata": {},
     "output_type": "display_data"
    }
   ],
   "source": [
    "concated_dataset.save_to_disk(\"./datasets_32\")  # 저장 경로명 변경"
   ],
   "metadata": {
    "collapsed": false,
    "ExecuteTime": {
     "start_time": "2023-12-30T00:20:39.656809Z",
     "end_time": "2023-12-30T00:21:12.302022Z"
    }
   }
  },
  {
   "cell_type": "code",
   "execution_count": null,
   "outputs": [],
   "source": [],
   "metadata": {
    "collapsed": false
   }
  }
 ],
 "metadata": {
  "kernelspec": {
   "display_name": "Python 3",
   "language": "python",
   "name": "python3"
  },
  "language_info": {
   "codemirror_mode": {
    "name": "ipython",
    "version": 2
   },
   "file_extension": ".py",
   "mimetype": "text/x-python",
   "name": "python",
   "nbconvert_exporter": "python",
   "pygments_lexer": "ipython2",
   "version": "2.7.6"
  }
 },
 "nbformat": 4,
 "nbformat_minor": 0
}
