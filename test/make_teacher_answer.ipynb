{
 "cells": [
  {
   "cell_type": "code",
   "execution_count": 1,
   "metadata": {
    "collapsed": true,
    "ExecuteTime": {
     "start_time": "2024-01-09T23:17:26.080120Z",
     "end_time": "2024-01-09T23:17:29.866310Z"
    }
   },
   "outputs": [],
   "source": [
    "import datasets\n",
    "from transformers import AutoTokenizer, DataCollatorWithPadding, AutoModelForMaskedLM, AdamW, get_scheduler\n",
    "\n",
    "import torch\n",
    "from torch.utils.data import DataLoader\n",
    "\n",
    "from tqdm.auto import tqdm\n",
    "from transformers import pipeline\n",
    "import random\n"
   ]
  },
  {
   "cell_type": "code",
   "execution_count": 175,
   "outputs": [],
   "source": [
    "ds = datasets.load_from_disk('datasets_by_teacher_1m')"
   ],
   "metadata": {
    "collapsed": false,
    "ExecuteTime": {
     "start_time": "2024-01-08T04:46:57.520700Z",
     "end_time": "2024-01-08T04:46:57.535791Z"
    }
   }
  },
  {
   "cell_type": "code",
   "execution_count": 10,
   "outputs": [
    {
     "data": {
      "text/plain": "                                                 new_text  mask_idx     score\n0       [CLS] Discharge Summary: Patient: 60-year-old ...         9  0.378695\n1       [CLS] Discharge Summary: Patient: 60-year-old ...         9  0.252060\n2       COVID-19 Hospital Course: The patient was admi...         6  0.825758\n3       COVID-19 Hospital Course: The patient was take...         6  0.082363\n4       with symptoms of fever, with cough, and dyspne...         4  0.157553\n...                                                   ...       ...       ...\n599815  artery from an assistant port. The thrombus wa...         2  0.027182\n599816  tightly adhered to inferior vena cava wall. It...         3  0.472514\n599817  tightly adhered to superior vena cava wall. It...         3  0.353571\n599818  dissected free from the IVC wall with local sp...         6  0.418808\n599819  dissected free from the IVC wall . local spill...         6  0.096663\n\n[599820 rows x 3 columns]",
      "text/html": "<div>\n<style scoped>\n    .dataframe tbody tr th:only-of-type {\n        vertical-align: middle;\n    }\n\n    .dataframe tbody tr th {\n        vertical-align: top;\n    }\n\n    .dataframe thead th {\n        text-align: right;\n    }\n</style>\n<table border=\"1\" class=\"dataframe\">\n  <thead>\n    <tr style=\"text-align: right;\">\n      <th></th>\n      <th>new_text</th>\n      <th>mask_idx</th>\n      <th>score</th>\n    </tr>\n  </thead>\n  <tbody>\n    <tr>\n      <th>0</th>\n      <td>[CLS] Discharge Summary: Patient: 60-year-old ...</td>\n      <td>9</td>\n      <td>0.378695</td>\n    </tr>\n    <tr>\n      <th>1</th>\n      <td>[CLS] Discharge Summary: Patient: 60-year-old ...</td>\n      <td>9</td>\n      <td>0.252060</td>\n    </tr>\n    <tr>\n      <th>2</th>\n      <td>COVID-19 Hospital Course: The patient was admi...</td>\n      <td>6</td>\n      <td>0.825758</td>\n    </tr>\n    <tr>\n      <th>3</th>\n      <td>COVID-19 Hospital Course: The patient was take...</td>\n      <td>6</td>\n      <td>0.082363</td>\n    </tr>\n    <tr>\n      <th>4</th>\n      <td>with symptoms of fever, with cough, and dyspne...</td>\n      <td>4</td>\n      <td>0.157553</td>\n    </tr>\n    <tr>\n      <th>...</th>\n      <td>...</td>\n      <td>...</td>\n      <td>...</td>\n    </tr>\n    <tr>\n      <th>599815</th>\n      <td>artery from an assistant port. The thrombus wa...</td>\n      <td>2</td>\n      <td>0.027182</td>\n    </tr>\n    <tr>\n      <th>599816</th>\n      <td>tightly adhered to inferior vena cava wall. It...</td>\n      <td>3</td>\n      <td>0.472514</td>\n    </tr>\n    <tr>\n      <th>599817</th>\n      <td>tightly adhered to superior vena cava wall. It...</td>\n      <td>3</td>\n      <td>0.353571</td>\n    </tr>\n    <tr>\n      <th>599818</th>\n      <td>dissected free from the IVC wall with local sp...</td>\n      <td>6</td>\n      <td>0.418808</td>\n    </tr>\n    <tr>\n      <th>599819</th>\n      <td>dissected free from the IVC wall . local spill...</td>\n      <td>6</td>\n      <td>0.096663</td>\n    </tr>\n  </tbody>\n</table>\n<p>599820 rows × 3 columns</p>\n</div>"
     },
     "execution_count": 10,
     "metadata": {},
     "output_type": "execute_result"
    }
   ],
   "source": [
    "import pandas as pd\n",
    "df = pd.read_csv('./ds/dataset_0.3m.csv')\n",
    "df"
   ],
   "metadata": {
    "collapsed": false,
    "ExecuteTime": {
     "start_time": "2024-01-09T23:30:59.561915Z",
     "end_time": "2024-01-09T23:31:00.090300Z"
    }
   }
  },
  {
   "cell_type": "markdown",
   "source": [
    "# text를 길이(단어 기준) 10으로 자르기"
   ],
   "metadata": {
    "collapsed": false
   }
  },
  {
   "cell_type": "code",
   "execution_count": 2,
   "outputs": [
    {
     "name": "stderr",
     "output_type": "stream",
     "text": [
      "Found cached dataset csv (/Users/serimkim/.cache/huggingface/datasets/starmpcc___csv/starmpcc--Asclepius-Synthetic-Clinical-Notes-819afb51239148d3/0.0.0/6954658bab30a358235fa864b05cf819af0e179325c740e4bc853bcc7ec513e1)\n"
     ]
    },
    {
     "data": {
      "text/plain": "  0%|          | 0/1 [00:00<?, ?it/s]",
      "application/vnd.jupyter.widget-view+json": {
       "version_major": 2,
       "version_minor": 0,
       "model_id": "4a855593f35b4d45907dacf574ef330c"
      }
     },
     "metadata": {},
     "output_type": "display_data"
    },
    {
     "data": {
      "text/plain": "DatasetDict({\n    train: Dataset({\n        features: ['patient_id', 'note', 'question', 'answer', 'task'],\n        num_rows: 158114\n    })\n})"
     },
     "execution_count": 2,
     "metadata": {},
     "output_type": "execute_result"
    }
   ],
   "source": [
    "# fine-tuning용 데이터 로드\n",
    "clinical_dataset = datasets.load_dataset(\"starmpcc/Asclepius-Synthetic-Clinical-Notes\")\n",
    "clinical_dataset"
   ],
   "metadata": {
    "collapsed": false,
    "ExecuteTime": {
     "start_time": "2024-01-09T23:18:09.934784Z",
     "end_time": "2024-01-09T23:18:12.283608Z"
    }
   }
  },
  {
   "cell_type": "code",
   "execution_count": 3,
   "outputs": [
    {
     "data": {
      "text/plain": "\"Discharge Summary:\\n\\nPatient: 60-year-old male with moderate ARDS from COVID-19\\n\\nHospital Course:\\n\\nThe patient was admitted to the hospital with symptoms of fever, dry cough, and dyspnea. During physical therapy on the acute ward, the patient experienced coughing attacks that induced oxygen desaturation and dyspnea with any change of position or deep breathing. To avoid rapid deterioration and respiratory failure, a step-by-step approach was used for position changes. The breathing exercises were adapted to avoid prolonged coughing and oxygen desaturation, and with close monitoring, the patient managed to perform strength and walking exercises at a low level. Exercise progression was low initially but increased daily until hospital discharge to a rehabilitation clinic on day 10.\\n\\nClinical Outcome:\\n\\nThe patient was discharged on day 10 to a rehabilitation clinic making satisfactory progress with all symptoms resolved.\\n\\nFollow-up:\\n\\nThe patient will receive follow-up care at the rehabilitation clinic, with regular monitoring of progress and further rehabilitation exercises until full recovery. Any new symptoms or concerns should be reported to the clinic immediately.\\n\\nOverall Impression:\\n\\nThe patient responded well to treatment, and with appropriate medical intervention, was able to overcome the difficulties faced during hospitalization for ARDS from COVID-19. The patient's level of care was of a high standard, with all necessary therapy provided and monitoring of progress before discharge.\""
     },
     "execution_count": 3,
     "metadata": {},
     "output_type": "execute_result"
    }
   ],
   "source": [
    "clinical_dataset['train'][0]['note']"
   ],
   "metadata": {
    "collapsed": false,
    "ExecuteTime": {
     "start_time": "2024-01-09T23:18:37.296824Z",
     "end_time": "2024-01-09T23:18:37.301369Z"
    }
   }
  },
  {
   "cell_type": "code",
   "execution_count": 88,
   "outputs": [
    {
     "name": "stderr",
     "output_type": "stream",
     "text": [
      "Loading cached processed dataset at /Users/serimkim/.cache/huggingface/datasets/starmpcc___csv/starmpcc--Asclepius-Synthetic-Clinical-Notes-819afb51239148d3/0.0.0/6954658bab30a358235fa864b05cf819af0e179325c740e4bc853bcc7ec513e1/cache-06fc11057ad6cd70.arrow\n"
     ]
    },
    {
     "data": {
      "text/plain": "DatasetDict({\n    train: Dataset({\n        features: ['note'],\n        num_rows: 158114\n    })\n})"
     },
     "execution_count": 88,
     "metadata": {},
     "output_type": "execute_result"
    }
   ],
   "source": [
    "# 문장 앞 뒤 토큰 추가 후, 텍스트 리스트화\n",
    "def into_list(example):\n",
    "  return {\"note\": (\"[CLS] \"+example[\"note\"]+\" [SEP]\").split()}\n",
    "\n",
    "clinical_dataset = clinical_dataset.map(into_list, remove_columns=[\"patient_id\", \"question\", \"answer\", \"task\"])\n",
    "clinical_dataset"
   ],
   "metadata": {
    "collapsed": false,
    "ExecuteTime": {
     "start_time": "2024-01-07T23:48:42.488684Z",
     "end_time": "2024-01-07T23:48:42.502622Z"
    }
   }
  },
  {
   "cell_type": "code",
   "execution_count": 89,
   "outputs": [
    {
     "name": "stderr",
     "output_type": "stream",
     "text": [
      "Loading cached processed dataset at /Users/serimkim/.cache/huggingface/datasets/starmpcc___csv/starmpcc--Asclepius-Synthetic-Clinical-Notes-819afb51239148d3/0.0.0/6954658bab30a358235fa864b05cf819af0e179325c740e4bc853bcc7ec513e1/cache-3eb4b2f90b04ca8c.arrow\n"
     ]
    },
    {
     "data": {
      "text/plain": "DatasetDict({\n    train: Dataset({\n        features: ['note'],\n        num_rows: 4417713\n    })\n})"
     },
     "execution_count": 89,
     "metadata": {},
     "output_type": "execute_result"
    }
   ],
   "source": [
    "# 길이 10으로 재구성\n",
    "chunk_size = 10\n",
    "def split_texts(examples):\n",
    "    # 모든 텍스트들을 결합한다.\n",
    "    concatenated_examples = {k: sum(examples[k], []) for k in examples.keys()}\n",
    "    # 결합된 텍스트들에 대한 길이를 구한다.\n",
    "    total_length = len(concatenated_examples[list(examples.keys())[0]])\n",
    "    # `chunk_size`보다 작은 경우 마지막 청크를 삭제\n",
    "    total_length = (total_length // chunk_size) * chunk_size\n",
    "    # max_len 길이를 가지는 chunk 단위로 슬라이스\n",
    "    result = {\n",
    "        k: [t[i : i + chunk_size] for i in range(0, total_length, chunk_size)]\n",
    "        for k, t in concatenated_examples.items()\n",
    "    }\n",
    "    return result\n",
    "\n",
    "datasets_len10 = clinical_dataset.map(split_texts, batched=True)\n",
    "datasets_len10"
   ],
   "metadata": {
    "collapsed": false,
    "ExecuteTime": {
     "start_time": "2024-01-07T23:48:42.496864Z",
     "end_time": "2024-01-07T23:48:42.541010Z"
    }
   }
  },
  {
   "cell_type": "code",
   "execution_count": null,
   "outputs": [],
   "source": [
    "ds"
   ],
   "metadata": {
    "collapsed": false
   }
  },
  {
   "cell_type": "code",
   "execution_count": 137,
   "outputs": [
    {
     "data": {
      "text/plain": "4417713"
     },
     "execution_count": 137,
     "metadata": {},
     "output_type": "execute_result"
    }
   ],
   "source": [
    "len(datasets_len10['train'])"
   ],
   "metadata": {
    "collapsed": false,
    "ExecuteTime": {
     "start_time": "2024-01-08T04:23:49.591737Z",
     "end_time": "2024-01-08T04:23:49.597314Z"
    }
   }
  },
  {
   "cell_type": "markdown",
   "source": [
    "# 단어 자체가 토큰인 것 masking"
   ],
   "metadata": {
    "collapsed": false
   }
  },
  {
   "cell_type": "code",
   "execution_count": 90,
   "outputs": [
    {
     "ename": "KeyboardInterrupt",
     "evalue": "",
     "output_type": "error",
     "traceback": [
      "\u001B[0;31m---------------------------------------------------------------------------\u001B[0m",
      "\u001B[0;31mKeyboardInterrupt\u001B[0m                         Traceback (most recent call last)",
      "Cell \u001B[0;32mIn[90], line 3\u001B[0m\n\u001B[1;32m      1\u001B[0m \u001B[38;5;66;03m# teacher 모델 및 토크나이저 불러오기\u001B[39;00m\n\u001B[1;32m      2\u001B[0m teacher_checkpoint \u001B[38;5;241m=\u001B[39m \u001B[38;5;124m\"\u001B[39m\u001B[38;5;124mmedicalai/ClinicalBERT\u001B[39m\u001B[38;5;124m\"\u001B[39m\n\u001B[0;32m----> 3\u001B[0m t_model \u001B[38;5;241m=\u001B[39m \u001B[43mAutoModelForMaskedLM\u001B[49m\u001B[38;5;241;43m.\u001B[39;49m\u001B[43mfrom_pretrained\u001B[49m\u001B[43m(\u001B[49m\u001B[43mteacher_checkpoint\u001B[49m\u001B[43m)\u001B[49m\n\u001B[1;32m      4\u001B[0m t_tokenizer \u001B[38;5;241m=\u001B[39m AutoTokenizer\u001B[38;5;241m.\u001B[39mfrom_pretrained(teacher_checkpoint)\n\u001B[1;32m      5\u001B[0m t_pipeline \u001B[38;5;241m=\u001B[39m pipeline(task\u001B[38;5;241m=\u001B[39m\u001B[38;5;124m'\u001B[39m\u001B[38;5;124mfill-mask\u001B[39m\u001B[38;5;124m'\u001B[39m, model\u001B[38;5;241m=\u001B[39mt_model, tokenizer\u001B[38;5;241m=\u001B[39mt_tokenizer)\n",
      "File \u001B[0;32m/opt/homebrew/Caskroom/miniforge/base/envs/hf/lib/python3.8/site-packages/transformers/models/auto/auto_factory.py:493\u001B[0m, in \u001B[0;36m_BaseAutoModelClass.from_pretrained\u001B[0;34m(cls, pretrained_model_name_or_path, *model_args, **kwargs)\u001B[0m\n\u001B[1;32m    491\u001B[0m \u001B[38;5;28;01melif\u001B[39;00m \u001B[38;5;28mtype\u001B[39m(config) \u001B[38;5;129;01min\u001B[39;00m \u001B[38;5;28mcls\u001B[39m\u001B[38;5;241m.\u001B[39m_model_mapping\u001B[38;5;241m.\u001B[39mkeys():\n\u001B[1;32m    492\u001B[0m     model_class \u001B[38;5;241m=\u001B[39m _get_model_class(config, \u001B[38;5;28mcls\u001B[39m\u001B[38;5;241m.\u001B[39m_model_mapping)\n\u001B[0;32m--> 493\u001B[0m     \u001B[38;5;28;01mreturn\u001B[39;00m \u001B[43mmodel_class\u001B[49m\u001B[38;5;241;43m.\u001B[39;49m\u001B[43mfrom_pretrained\u001B[49m\u001B[43m(\u001B[49m\n\u001B[1;32m    494\u001B[0m \u001B[43m        \u001B[49m\u001B[43mpretrained_model_name_or_path\u001B[49m\u001B[43m,\u001B[49m\u001B[43m \u001B[49m\u001B[38;5;241;43m*\u001B[39;49m\u001B[43mmodel_args\u001B[49m\u001B[43m,\u001B[49m\u001B[43m \u001B[49m\u001B[43mconfig\u001B[49m\u001B[38;5;241;43m=\u001B[39;49m\u001B[43mconfig\u001B[49m\u001B[43m,\u001B[49m\u001B[43m \u001B[49m\u001B[38;5;241;43m*\u001B[39;49m\u001B[38;5;241;43m*\u001B[39;49m\u001B[43mhub_kwargs\u001B[49m\u001B[43m,\u001B[49m\u001B[43m \u001B[49m\u001B[38;5;241;43m*\u001B[39;49m\u001B[38;5;241;43m*\u001B[39;49m\u001B[43mkwargs\u001B[49m\n\u001B[1;32m    495\u001B[0m \u001B[43m    \u001B[49m\u001B[43m)\u001B[49m\n\u001B[1;32m    496\u001B[0m \u001B[38;5;28;01mraise\u001B[39;00m \u001B[38;5;167;01mValueError\u001B[39;00m(\n\u001B[1;32m    497\u001B[0m     \u001B[38;5;124mf\u001B[39m\u001B[38;5;124m\"\u001B[39m\u001B[38;5;124mUnrecognized configuration class \u001B[39m\u001B[38;5;132;01m{\u001B[39;00mconfig\u001B[38;5;241m.\u001B[39m\u001B[38;5;18m__class__\u001B[39m\u001B[38;5;132;01m}\u001B[39;00m\u001B[38;5;124m for this kind of AutoModel: \u001B[39m\u001B[38;5;132;01m{\u001B[39;00m\u001B[38;5;28mcls\u001B[39m\u001B[38;5;241m.\u001B[39m\u001B[38;5;18m__name__\u001B[39m\u001B[38;5;132;01m}\u001B[39;00m\u001B[38;5;124m.\u001B[39m\u001B[38;5;130;01m\\n\u001B[39;00m\u001B[38;5;124m\"\u001B[39m\n\u001B[1;32m    498\u001B[0m     \u001B[38;5;124mf\u001B[39m\u001B[38;5;124m\"\u001B[39m\u001B[38;5;124mModel type should be one of \u001B[39m\u001B[38;5;132;01m{\u001B[39;00m\u001B[38;5;124m'\u001B[39m\u001B[38;5;124m, \u001B[39m\u001B[38;5;124m'\u001B[39m\u001B[38;5;241m.\u001B[39mjoin(c\u001B[38;5;241m.\u001B[39m\u001B[38;5;18m__name__\u001B[39m\u001B[38;5;250m \u001B[39m\u001B[38;5;28;01mfor\u001B[39;00m\u001B[38;5;250m \u001B[39mc\u001B[38;5;250m \u001B[39m\u001B[38;5;129;01min\u001B[39;00m\u001B[38;5;250m \u001B[39m\u001B[38;5;28mcls\u001B[39m\u001B[38;5;241m.\u001B[39m_model_mapping\u001B[38;5;241m.\u001B[39mkeys())\u001B[38;5;132;01m}\u001B[39;00m\u001B[38;5;124m.\u001B[39m\u001B[38;5;124m\"\u001B[39m\n\u001B[1;32m    499\u001B[0m )\n",
      "File \u001B[0;32m/opt/homebrew/Caskroom/miniforge/base/envs/hf/lib/python3.8/site-packages/transformers/modeling_utils.py:2700\u001B[0m, in \u001B[0;36mPreTrainedModel.from_pretrained\u001B[0;34m(cls, pretrained_model_name_or_path, config, cache_dir, ignore_mismatched_sizes, force_download, local_files_only, token, revision, use_safetensors, *model_args, **kwargs)\u001B[0m\n\u001B[1;32m   2697\u001B[0m     init_contexts\u001B[38;5;241m.\u001B[39mappend(init_empty_weights())\n\u001B[1;32m   2699\u001B[0m \u001B[38;5;28;01mwith\u001B[39;00m ContextManagers(init_contexts):\n\u001B[0;32m-> 2700\u001B[0m     model \u001B[38;5;241m=\u001B[39m \u001B[38;5;28;43mcls\u001B[39;49m\u001B[43m(\u001B[49m\u001B[43mconfig\u001B[49m\u001B[43m,\u001B[49m\u001B[43m \u001B[49m\u001B[38;5;241;43m*\u001B[39;49m\u001B[43mmodel_args\u001B[49m\u001B[43m,\u001B[49m\u001B[43m \u001B[49m\u001B[38;5;241;43m*\u001B[39;49m\u001B[38;5;241;43m*\u001B[39;49m\u001B[43mmodel_kwargs\u001B[49m\u001B[43m)\u001B[49m\n\u001B[1;32m   2702\u001B[0m \u001B[38;5;66;03m# Check first if we are `from_pt`\u001B[39;00m\n\u001B[1;32m   2703\u001B[0m \u001B[38;5;28;01mif\u001B[39;00m use_keep_in_fp32_modules:\n",
      "File \u001B[0;32m/opt/homebrew/Caskroom/miniforge/base/envs/hf/lib/python3.8/site-packages/transformers/models/distilbert/modeling_distilbert.py:630\u001B[0m, in \u001B[0;36mDistilBertForMaskedLM.__init__\u001B[0;34m(self, config)\u001B[0m\n\u001B[1;32m    626\u001B[0m \u001B[38;5;28msuper\u001B[39m()\u001B[38;5;241m.\u001B[39m\u001B[38;5;21m__init__\u001B[39m(config)\n\u001B[1;32m    628\u001B[0m \u001B[38;5;28mself\u001B[39m\u001B[38;5;241m.\u001B[39mactivation \u001B[38;5;241m=\u001B[39m get_activation(config\u001B[38;5;241m.\u001B[39mactivation)\n\u001B[0;32m--> 630\u001B[0m \u001B[38;5;28mself\u001B[39m\u001B[38;5;241m.\u001B[39mdistilbert \u001B[38;5;241m=\u001B[39m \u001B[43mDistilBertModel\u001B[49m\u001B[43m(\u001B[49m\u001B[43mconfig\u001B[49m\u001B[43m)\u001B[49m\n\u001B[1;32m    631\u001B[0m \u001B[38;5;28mself\u001B[39m\u001B[38;5;241m.\u001B[39mvocab_transform \u001B[38;5;241m=\u001B[39m nn\u001B[38;5;241m.\u001B[39mLinear(config\u001B[38;5;241m.\u001B[39mdim, config\u001B[38;5;241m.\u001B[39mdim)\n\u001B[1;32m    632\u001B[0m \u001B[38;5;28mself\u001B[39m\u001B[38;5;241m.\u001B[39mvocab_layer_norm \u001B[38;5;241m=\u001B[39m nn\u001B[38;5;241m.\u001B[39mLayerNorm(config\u001B[38;5;241m.\u001B[39mdim, eps\u001B[38;5;241m=\u001B[39m\u001B[38;5;241m1e-12\u001B[39m)\n",
      "File \u001B[0;32m/opt/homebrew/Caskroom/miniforge/base/envs/hf/lib/python3.8/site-packages/transformers/models/distilbert/modeling_distilbert.py:499\u001B[0m, in \u001B[0;36mDistilBertModel.__init__\u001B[0;34m(self, config)\u001B[0m\n\u001B[1;32m    496\u001B[0m \u001B[38;5;28;01mdef\u001B[39;00m \u001B[38;5;21m__init__\u001B[39m(\u001B[38;5;28mself\u001B[39m, config: PretrainedConfig):\n\u001B[1;32m    497\u001B[0m     \u001B[38;5;28msuper\u001B[39m()\u001B[38;5;241m.\u001B[39m\u001B[38;5;21m__init__\u001B[39m(config)\n\u001B[0;32m--> 499\u001B[0m     \u001B[38;5;28mself\u001B[39m\u001B[38;5;241m.\u001B[39membeddings \u001B[38;5;241m=\u001B[39m \u001B[43mEmbeddings\u001B[49m\u001B[43m(\u001B[49m\u001B[43mconfig\u001B[49m\u001B[43m)\u001B[49m  \u001B[38;5;66;03m# Embeddings\u001B[39;00m\n\u001B[1;32m    500\u001B[0m     \u001B[38;5;28mself\u001B[39m\u001B[38;5;241m.\u001B[39mtransformer \u001B[38;5;241m=\u001B[39m Transformer(config)  \u001B[38;5;66;03m# Encoder\u001B[39;00m\n\u001B[1;32m    502\u001B[0m     \u001B[38;5;66;03m# Initialize weights and apply final processing\u001B[39;00m\n",
      "File \u001B[0;32m/opt/homebrew/Caskroom/miniforge/base/envs/hf/lib/python3.8/site-packages/transformers/models/distilbert/modeling_distilbert.py:94\u001B[0m, in \u001B[0;36mEmbeddings.__init__\u001B[0;34m(self, config)\u001B[0m\n\u001B[1;32m     92\u001B[0m \u001B[38;5;28;01mdef\u001B[39;00m \u001B[38;5;21m__init__\u001B[39m(\u001B[38;5;28mself\u001B[39m, config: PretrainedConfig):\n\u001B[1;32m     93\u001B[0m     \u001B[38;5;28msuper\u001B[39m()\u001B[38;5;241m.\u001B[39m\u001B[38;5;21m__init__\u001B[39m()\n\u001B[0;32m---> 94\u001B[0m     \u001B[38;5;28mself\u001B[39m\u001B[38;5;241m.\u001B[39mword_embeddings \u001B[38;5;241m=\u001B[39m \u001B[43mnn\u001B[49m\u001B[38;5;241;43m.\u001B[39;49m\u001B[43mEmbedding\u001B[49m\u001B[43m(\u001B[49m\u001B[43mconfig\u001B[49m\u001B[38;5;241;43m.\u001B[39;49m\u001B[43mvocab_size\u001B[49m\u001B[43m,\u001B[49m\u001B[43m \u001B[49m\u001B[43mconfig\u001B[49m\u001B[38;5;241;43m.\u001B[39;49m\u001B[43mdim\u001B[49m\u001B[43m,\u001B[49m\u001B[43m \u001B[49m\u001B[43mpadding_idx\u001B[49m\u001B[38;5;241;43m=\u001B[39;49m\u001B[43mconfig\u001B[49m\u001B[38;5;241;43m.\u001B[39;49m\u001B[43mpad_token_id\u001B[49m\u001B[43m)\u001B[49m\n\u001B[1;32m     95\u001B[0m     \u001B[38;5;28mself\u001B[39m\u001B[38;5;241m.\u001B[39mposition_embeddings \u001B[38;5;241m=\u001B[39m nn\u001B[38;5;241m.\u001B[39mEmbedding(config\u001B[38;5;241m.\u001B[39mmax_position_embeddings, config\u001B[38;5;241m.\u001B[39mdim)\n\u001B[1;32m     96\u001B[0m     \u001B[38;5;28;01mif\u001B[39;00m config\u001B[38;5;241m.\u001B[39msinusoidal_pos_embds:\n",
      "File \u001B[0;32m/opt/homebrew/Caskroom/miniforge/base/envs/hf/lib/python3.8/site-packages/torch/nn/modules/sparse.py:144\u001B[0m, in \u001B[0;36mEmbedding.__init__\u001B[0;34m(self, num_embeddings, embedding_dim, padding_idx, max_norm, norm_type, scale_grad_by_freq, sparse, _weight, _freeze, device, dtype)\u001B[0m\n\u001B[1;32m    141\u001B[0m \u001B[38;5;28;01mif\u001B[39;00m _weight \u001B[38;5;129;01mis\u001B[39;00m \u001B[38;5;28;01mNone\u001B[39;00m:\n\u001B[1;32m    142\u001B[0m     \u001B[38;5;28mself\u001B[39m\u001B[38;5;241m.\u001B[39mweight \u001B[38;5;241m=\u001B[39m Parameter(torch\u001B[38;5;241m.\u001B[39mempty((num_embeddings, embedding_dim), \u001B[38;5;241m*\u001B[39m\u001B[38;5;241m*\u001B[39mfactory_kwargs),\n\u001B[1;32m    143\u001B[0m                             requires_grad\u001B[38;5;241m=\u001B[39m\u001B[38;5;129;01mnot\u001B[39;00m _freeze)\n\u001B[0;32m--> 144\u001B[0m     \u001B[38;5;28;43mself\u001B[39;49m\u001B[38;5;241;43m.\u001B[39;49m\u001B[43mreset_parameters\u001B[49m\u001B[43m(\u001B[49m\u001B[43m)\u001B[49m\n\u001B[1;32m    145\u001B[0m \u001B[38;5;28;01melse\u001B[39;00m:\n\u001B[1;32m    146\u001B[0m     \u001B[38;5;28;01massert\u001B[39;00m \u001B[38;5;28mlist\u001B[39m(_weight\u001B[38;5;241m.\u001B[39mshape) \u001B[38;5;241m==\u001B[39m [num_embeddings, embedding_dim], \\\n\u001B[1;32m    147\u001B[0m         \u001B[38;5;124m'\u001B[39m\u001B[38;5;124mShape of weight does not match num_embeddings and embedding_dim\u001B[39m\u001B[38;5;124m'\u001B[39m\n",
      "File \u001B[0;32m/opt/homebrew/Caskroom/miniforge/base/envs/hf/lib/python3.8/site-packages/torch/nn/modules/sparse.py:153\u001B[0m, in \u001B[0;36mEmbedding.reset_parameters\u001B[0;34m(self)\u001B[0m\n\u001B[1;32m    152\u001B[0m \u001B[38;5;28;01mdef\u001B[39;00m \u001B[38;5;21mreset_parameters\u001B[39m(\u001B[38;5;28mself\u001B[39m) \u001B[38;5;241m-\u001B[39m\u001B[38;5;241m>\u001B[39m \u001B[38;5;28;01mNone\u001B[39;00m:\n\u001B[0;32m--> 153\u001B[0m     \u001B[43minit\u001B[49m\u001B[38;5;241;43m.\u001B[39;49m\u001B[43mnormal_\u001B[49m\u001B[43m(\u001B[49m\u001B[38;5;28;43mself\u001B[39;49m\u001B[38;5;241;43m.\u001B[39;49m\u001B[43mweight\u001B[49m\u001B[43m)\u001B[49m\n\u001B[1;32m    154\u001B[0m     \u001B[38;5;28mself\u001B[39m\u001B[38;5;241m.\u001B[39m_fill_padding_idx_with_zero()\n",
      "File \u001B[0;32m/opt/homebrew/Caskroom/miniforge/base/envs/hf/lib/python3.8/site-packages/torch/nn/init.py:155\u001B[0m, in \u001B[0;36mnormal_\u001B[0;34m(tensor, mean, std)\u001B[0m\n\u001B[1;32m    153\u001B[0m \u001B[38;5;28;01mif\u001B[39;00m torch\u001B[38;5;241m.\u001B[39moverrides\u001B[38;5;241m.\u001B[39mhas_torch_function_variadic(tensor):\n\u001B[1;32m    154\u001B[0m     \u001B[38;5;28;01mreturn\u001B[39;00m torch\u001B[38;5;241m.\u001B[39moverrides\u001B[38;5;241m.\u001B[39mhandle_torch_function(normal_, (tensor,), tensor\u001B[38;5;241m=\u001B[39mtensor, mean\u001B[38;5;241m=\u001B[39mmean, std\u001B[38;5;241m=\u001B[39mstd)\n\u001B[0;32m--> 155\u001B[0m \u001B[38;5;28;01mreturn\u001B[39;00m \u001B[43m_no_grad_normal_\u001B[49m\u001B[43m(\u001B[49m\u001B[43mtensor\u001B[49m\u001B[43m,\u001B[49m\u001B[43m \u001B[49m\u001B[43mmean\u001B[49m\u001B[43m,\u001B[49m\u001B[43m \u001B[49m\u001B[43mstd\u001B[49m\u001B[43m)\u001B[49m\n",
      "File \u001B[0;32m/opt/homebrew/Caskroom/miniforge/base/envs/hf/lib/python3.8/site-packages/torch/nn/init.py:19\u001B[0m, in \u001B[0;36m_no_grad_normal_\u001B[0;34m(tensor, mean, std)\u001B[0m\n\u001B[1;32m     17\u001B[0m \u001B[38;5;28;01mdef\u001B[39;00m \u001B[38;5;21m_no_grad_normal_\u001B[39m(tensor, mean, std):\n\u001B[1;32m     18\u001B[0m     \u001B[38;5;28;01mwith\u001B[39;00m torch\u001B[38;5;241m.\u001B[39mno_grad():\n\u001B[0;32m---> 19\u001B[0m         \u001B[38;5;28;01mreturn\u001B[39;00m \u001B[43mtensor\u001B[49m\u001B[38;5;241;43m.\u001B[39;49m\u001B[43mnormal_\u001B[49m\u001B[43m(\u001B[49m\u001B[43mmean\u001B[49m\u001B[43m,\u001B[49m\u001B[43m \u001B[49m\u001B[43mstd\u001B[49m\u001B[43m)\u001B[49m\n",
      "\u001B[0;31mKeyboardInterrupt\u001B[0m: "
     ]
    }
   ],
   "source": [
    "# teacher 모델 및 토크나이저 불러오기\n",
    "teacher_checkpoint = \"medicalai/ClinicalBERT\"\n",
    "t_model = AutoModelForMaskedLM.from_pretrained(teacher_checkpoint)\n",
    "t_tokenizer = AutoTokenizer.from_pretrained(teacher_checkpoint)\n",
    "t_pipeline = pipeline(task='fill-mask', model=t_model, tokenizer=t_tokenizer)"
   ],
   "metadata": {
    "collapsed": false,
    "ExecuteTime": {
     "start_time": "2024-01-07T20:11:58.252164Z",
     "end_time": "2024-01-07T20:12:00.654805Z"
    }
   }
  },
  {
   "cell_type": "code",
   "execution_count": null,
   "outputs": [],
   "source": [
    "ex = datasets_len10['train'][0]\n",
    "ex"
   ],
   "metadata": {
    "collapsed": false,
    "ExecuteTime": {
     "start_time": "2024-01-07T20:12:03.837362Z",
     "end_time": "2024-01-07T20:12:03.842731Z"
    }
   }
  },
  {
   "cell_type": "code",
   "execution_count": null,
   "outputs": [],
   "source": [
    "result = t_tokenizer(ex['note'], add_special_tokens=False)\n",
    "result"
   ],
   "metadata": {
    "collapsed": false,
    "ExecuteTime": {
     "start_time": "2024-01-07T20:12:06.489877Z",
     "end_time": "2024-01-07T20:12:06.492308Z"
    }
   }
  },
  {
   "cell_type": "code",
   "execution_count": null,
   "outputs": [],
   "source": [
    "def masking(examples):\n",
    "    examples['input_ids'] = t_tokenizer(examples['note'], add_special_tokens=False)['input_ids']\n",
    "    examples['word_token_idx'] = [idx for idx, tokens in enumerate(examples['input_ids']) if len(tokens)==1]\n",
    "    examples['mask_idx'] = random.choice(examples['word_token_idx']) if len(examples['word_token_idx'])>0 else -1\n",
    "    if examples['mask_idx'] != -1:\n",
    "        examples['note'][examples['mask_idx']] = '[MASK]'\n",
    "    examples['text'] = ' '.join(examples['note'])\n",
    "    return examples"
   ],
   "metadata": {
    "collapsed": false,
    "ExecuteTime": {
     "start_time": "2024-01-07T20:28:51.756360Z",
     "end_time": "2024-01-07T20:28:51.759586Z"
    }
   }
  },
  {
   "cell_type": "code",
   "execution_count": null,
   "outputs": [],
   "source": [
    "input_data = [[11170, 32194, 118, 10270], [18141], [15348, 131], [10105], [38607], [10134], [40345], [10114], [10105], [18141]]\n",
    "indices_of_len_one = [idx for idx, tokens in enumerate(input_data) if len(tokens)==1]\n",
    "\n",
    "print(indices_of_len_one)"
   ],
   "metadata": {
    "collapsed": false,
    "ExecuteTime": {
     "start_time": "2024-01-07T20:12:19.916427Z",
     "end_time": "2024-01-07T20:12:19.920707Z"
    }
   }
  },
  {
   "cell_type": "code",
   "execution_count": null,
   "outputs": [],
   "source": [
    "ex['note'][3]"
   ],
   "metadata": {
    "collapsed": false,
    "ExecuteTime": {
     "start_time": "2024-01-07T20:26:44.063999Z",
     "end_time": "2024-01-07T20:26:44.067543Z"
    }
   }
  },
  {
   "cell_type": "code",
   "execution_count": null,
   "outputs": [],
   "source": [
    "sample = datasets_len10['train'].select(list(range(3)))\n",
    "sample.map(masking)"
   ],
   "metadata": {
    "collapsed": false
   }
  },
  {
   "cell_type": "code",
   "execution_count": null,
   "outputs": [],
   "source": [
    "processed = sample.map(masking)"
   ],
   "metadata": {
    "collapsed": false,
    "ExecuteTime": {
     "start_time": "2024-01-07T20:28:56.993041Z",
     "end_time": "2024-01-07T20:28:57.032497Z"
    }
   }
  },
  {
   "cell_type": "code",
   "execution_count": null,
   "outputs": [],
   "source": [
    "processed[0]"
   ],
   "metadata": {
    "collapsed": false,
    "ExecuteTime": {
     "start_time": "2024-01-07T20:28:58.773398Z",
     "end_time": "2024-01-07T20:28:58.779532Z"
    }
   }
  },
  {
   "cell_type": "code",
   "execution_count": null,
   "outputs": [],
   "source": [
    "datasets_len10_mask = datasets_len10['train'].map(masking)"
   ],
   "metadata": {
    "collapsed": false,
    "ExecuteTime": {
     "start_time": "2024-01-07T20:32:41.620608Z",
     "end_time": "2024-01-07T20:40:31.558954Z"
    }
   }
  },
  {
   "cell_type": "markdown",
   "source": [
    "# 데이터셋 저장"
   ],
   "metadata": {
    "collapsed": false
   }
  },
  {
   "cell_type": "code",
   "execution_count": null,
   "outputs": [],
   "source": [
    "datasets_len10_mask.save_to_disk(\"./datasets_len10_mask\")  # 저장 경로명 변경"
   ],
   "metadata": {
    "collapsed": false,
    "ExecuteTime": {
     "start_time": "2024-01-07T20:42:25.094225Z",
     "end_time": "2024-01-07T20:42:30.102650Z"
    }
   }
  },
  {
   "cell_type": "code",
   "execution_count": 4,
   "outputs": [],
   "source": [
    "ds = datasets.load_from_disk('datasets_len10_mask')"
   ],
   "metadata": {
    "collapsed": false,
    "ExecuteTime": {
     "start_time": "2024-01-09T23:19:28.538860Z",
     "end_time": "2024-01-09T23:19:29.313553Z"
    }
   }
  },
  {
   "cell_type": "code",
   "execution_count": 9,
   "outputs": [
    {
     "data": {
      "text/plain": "'COVID-19 Hospital Course: The patient was admitted to the hospital'"
     },
     "execution_count": 9,
     "metadata": {},
     "output_type": "execute_result"
    }
   ],
   "source": [
    "text = 'COVID-19 Hospital Course: The patient was admitted to the hospital'\n",
    "text"
   ],
   "metadata": {
    "collapsed": false,
    "ExecuteTime": {
     "start_time": "2024-01-09T23:27:17.350823Z",
     "end_time": "2024-01-09T23:27:17.355071Z"
    }
   }
  },
  {
   "cell_type": "code",
   "execution_count": 6,
   "outputs": [
    {
     "data": {
      "text/plain": "{'note': ['COVID-19',\n  'Hospital',\n  'Course:',\n  'The',\n  'patient',\n  'was',\n  '[MASK]',\n  'to',\n  'the',\n  'hospital'],\n 'input_ids': [[11170, 32194, 118, 10270],\n  [18141],\n  [15348, 131],\n  [10105],\n  [38607],\n  [10134],\n  [40345],\n  [10114],\n  [10105],\n  [18141]],\n 'word_token_idx': [1, 3, 4, 5, 6, 7, 8, 9],\n 'mask_idx': 6,\n 'text': 'COVID-19 Hospital Course: The patient was [MASK] to the hospital'}"
     },
     "execution_count": 6,
     "metadata": {},
     "output_type": "execute_result"
    }
   ],
   "source": [
    "ds[1]"
   ],
   "metadata": {
    "collapsed": false,
    "ExecuteTime": {
     "start_time": "2024-01-09T23:19:44.909280Z",
     "end_time": "2024-01-09T23:19:44.913431Z"
    }
   }
  },
  {
   "cell_type": "markdown",
   "source": [
    "# teacher 모델의 답변으로 데이터셋 만들기"
   ],
   "metadata": {
    "collapsed": false
   }
  },
  {
   "cell_type": "markdown",
   "source": [
    "### 1) pipeline 통한 답변생성 -> 느림"
   ],
   "metadata": {
    "collapsed": false
   }
  },
  {
   "cell_type": "code",
   "execution_count": null,
   "outputs": [],
   "source": [
    "def make_answer(examples):\n",
    "    if examples['mask_idx'] != -1:\n",
    "        answers = t_pipeline(examples['text'])\n",
    "        for ans in answers:\n",
    "            ans['mask_idx'] = examples['mask_idx']\n",
    "        examples['answers'] = answers\n",
    "    return examples"
   ],
   "metadata": {
    "collapsed": false,
    "ExecuteTime": {
     "start_time": "2024-01-07T22:49:44.942451Z",
     "end_time": "2024-01-07T22:49:44.946432Z"
    }
   }
  },
  {
   "cell_type": "code",
   "execution_count": null,
   "outputs": [],
   "source": [
    "datasets = processed.map(make_answer)"
   ],
   "metadata": {
    "collapsed": false,
    "ExecuteTime": {
     "start_time": "2024-01-07T22:49:45.833350Z",
     "end_time": "2024-01-07T22:49:46.596265Z"
    }
   }
  },
  {
   "cell_type": "markdown",
   "source": [
    "## 2) model 통한 답변생성"
   ],
   "metadata": {
    "collapsed": false
   }
  },
  {
   "cell_type": "code",
   "execution_count": 177,
   "outputs": [
    {
     "data": {
      "text/plain": "        mask_idx                                               text\n0              9  [CLS] Discharge Summary: Patient: 60-year-old ...\n1              6  COVID-19 Hospital Course: The patient was [MAS...\n2              4  with symptoms of fever, [MASK] cough, and dysp...\n3              3  therapy on the [MASK] ward, the patient experi...\n4              8  that induced oxygen desaturation and dyspnea w...\n...          ...                                                ...\n999995         0  [MASK] of Admission: Date of Discharge: Hospit...\n999996         5  was admitted with a cellulitis-like [MASK] on ...\n999997         7  thigh that rapidly extended, resulting in seve...\n999998         4  the lower right leg. [MASK] Doppler ultrasound...\n999999         5  of thrombosis, and laboratory investigations [...\n\n[1000000 rows x 2 columns]",
      "text/html": "<div>\n<style scoped>\n    .dataframe tbody tr th:only-of-type {\n        vertical-align: middle;\n    }\n\n    .dataframe tbody tr th {\n        vertical-align: top;\n    }\n\n    .dataframe thead th {\n        text-align: right;\n    }\n</style>\n<table border=\"1\" class=\"dataframe\">\n  <thead>\n    <tr style=\"text-align: right;\">\n      <th></th>\n      <th>mask_idx</th>\n      <th>text</th>\n    </tr>\n  </thead>\n  <tbody>\n    <tr>\n      <th>0</th>\n      <td>9</td>\n      <td>[CLS] Discharge Summary: Patient: 60-year-old ...</td>\n    </tr>\n    <tr>\n      <th>1</th>\n      <td>6</td>\n      <td>COVID-19 Hospital Course: The patient was [MAS...</td>\n    </tr>\n    <tr>\n      <th>2</th>\n      <td>4</td>\n      <td>with symptoms of fever, [MASK] cough, and dysp...</td>\n    </tr>\n    <tr>\n      <th>3</th>\n      <td>3</td>\n      <td>therapy on the [MASK] ward, the patient experi...</td>\n    </tr>\n    <tr>\n      <th>4</th>\n      <td>8</td>\n      <td>that induced oxygen desaturation and dyspnea w...</td>\n    </tr>\n    <tr>\n      <th>...</th>\n      <td>...</td>\n      <td>...</td>\n    </tr>\n    <tr>\n      <th>999995</th>\n      <td>0</td>\n      <td>[MASK] of Admission: Date of Discharge: Hospit...</td>\n    </tr>\n    <tr>\n      <th>999996</th>\n      <td>5</td>\n      <td>was admitted with a cellulitis-like [MASK] on ...</td>\n    </tr>\n    <tr>\n      <th>999997</th>\n      <td>7</td>\n      <td>thigh that rapidly extended, resulting in seve...</td>\n    </tr>\n    <tr>\n      <th>999998</th>\n      <td>4</td>\n      <td>the lower right leg. [MASK] Doppler ultrasound...</td>\n    </tr>\n    <tr>\n      <th>999999</th>\n      <td>5</td>\n      <td>of thrombosis, and laboratory investigations [...</td>\n    </tr>\n  </tbody>\n</table>\n<p>1000000 rows × 2 columns</p>\n</div>"
     },
     "execution_count": 177,
     "metadata": {},
     "output_type": "execute_result"
    }
   ],
   "source": [
    "dataset = ds.to_pandas()\n",
    "dataset"
   ],
   "metadata": {
    "collapsed": false,
    "ExecuteTime": {
     "start_time": "2024-01-08T04:47:36.847905Z",
     "end_time": "2024-01-08T04:47:37.063500Z"
    }
   }
  },
  {
   "cell_type": "code",
   "execution_count": null,
   "outputs": [],
   "source": [],
   "metadata": {
    "collapsed": false
   }
  },
  {
   "cell_type": "code",
   "execution_count": 186,
   "outputs": [],
   "source": [
    "import pandas as pd"
   ],
   "metadata": {
    "collapsed": false,
    "ExecuteTime": {
     "start_time": "2024-01-08T04:57:12.493458Z",
     "end_time": "2024-01-08T04:57:12.498322Z"
    }
   }
  },
  {
   "cell_type": "code",
   "execution_count": 241,
   "outputs": [
    {
     "name": "stdout",
     "output_type": "stream",
     "text": [
      "Execution time: 0.05159282684326172 seconds for 0 rows\n"
     ]
    }
   ],
   "source": [
    "import time\n",
    "\n",
    "start_time = time.time()\n",
    "for i in range(100):\n",
    "    if ds.loc[i,'mask_idx'] != -1:\n",
    "        # MASK 위치 인덱스 가져오기\n",
    "        tokenized = t_tokenizer(ds.loc[i,'text'], return_tensors='pt', add_special_tokens=False)\n",
    "        mask = torch.where(tokenized['input_ids'][0] == 103)\n",
    "\n",
    "        # top5 예측의 score, index\n",
    "        top5 = torch.topk(torch.softmax(t_model(**tokenized).logits[0][mask], dim=1), 5)\n",
    "        scores = top5.values[0].detach().cpu().numpy()\n",
    "        indices = top5.indices[0]\n",
    "\n",
    "        # top5 token decode\n",
    "        answers = t_tokenizer.convert_ids_to_tokens(indices)\n",
    "\n",
    "        for j in range(5):\n",
    "            s_col = 'score'+str(j)\n",
    "            a_col = 'answer'+str(j)\n",
    "            ds.loc[i,s_col] = scores[j]\n",
    "            ds.loc[i,a_col] = answers[j]\n",
    "\n",
    "    if i%1000 == 0:\n",
    "        end_time = time.time()\n",
    "        execution_time = end_time - start_time\n",
    "        print(f\"Execution time: {execution_time} seconds for {i} rows\")\n",
    "\n",
    "        if i%10000 == 0:\n",
    "            # GPU 캐시 비우기\n",
    "            torch.cuda.empty_cache()\n",
    "\n",
    "        # 중간저장\n",
    "        if i%200000==0 and i>0:\n",
    "            file = 'datasets_by_teacher_'+str(i+1000000)+'.csv'\n",
    "            dataset.to_csv(file, index=False)\n",
    "\n",
    "# 데이터셋 저장\n",
    "dataset.to_csv('datasets_by_teacher_1000000.csv', index=False)"
   ],
   "metadata": {
    "collapsed": false,
    "ExecuteTime": {
     "start_time": "2024-01-08T05:48:23.109754Z",
     "end_time": "2024-01-08T05:48:29.471012Z"
    }
   }
  },
  {
   "cell_type": "code",
   "execution_count": 19,
   "outputs": [
    {
     "name": "stderr",
     "output_type": "stream",
     "text": [
      "/var/folders/16/llg4mhsx5yvgfmnhmknw_l8w0000gn/T/ipykernel_39903/2376095813.py:1: DtypeWarning: Columns (4,6,8,10,12) have mixed types. Specify dtype option on import or set low_memory=False.\n",
      "  dataset = pd.read_csv('datasets_by_teacher_1000000.csv')\n"
     ]
    },
    {
     "data": {
      "text/plain": "   mask_idx                                               text  scores  \\\n1         6  COVID-19 Hospital Course: The patient was [MAS...     NaN   \n\n     score0   answer0    score1 answer1    score2  answer2    score3  \\\n1  0.825775  admitted  0.082366   taken  0.018949  brought  0.017375   \n\n       answer3    score4 answer4  \n1  transferred  0.006739    sent  ",
      "text/html": "<div>\n<style scoped>\n    .dataframe tbody tr th:only-of-type {\n        vertical-align: middle;\n    }\n\n    .dataframe tbody tr th {\n        vertical-align: top;\n    }\n\n    .dataframe thead th {\n        text-align: right;\n    }\n</style>\n<table border=\"1\" class=\"dataframe\">\n  <thead>\n    <tr style=\"text-align: right;\">\n      <th></th>\n      <th>mask_idx</th>\n      <th>text</th>\n      <th>scores</th>\n      <th>score0</th>\n      <th>answer0</th>\n      <th>score1</th>\n      <th>answer1</th>\n      <th>score2</th>\n      <th>answer2</th>\n      <th>score3</th>\n      <th>answer3</th>\n      <th>score4</th>\n      <th>answer4</th>\n    </tr>\n  </thead>\n  <tbody>\n    <tr>\n      <th>1</th>\n      <td>6</td>\n      <td>COVID-19 Hospital Course: The patient was [MAS...</td>\n      <td>NaN</td>\n      <td>0.825775</td>\n      <td>admitted</td>\n      <td>0.082366</td>\n      <td>taken</td>\n      <td>0.018949</td>\n      <td>brought</td>\n      <td>0.017375</td>\n      <td>transferred</td>\n      <td>0.006739</td>\n      <td>sent</td>\n    </tr>\n  </tbody>\n</table>\n</div>"
     },
     "execution_count": 19,
     "metadata": {},
     "output_type": "execute_result"
    }
   ],
   "source": [
    "dataset = pd.read_csv('datasets_by_teacher_1000000.csv')\n",
    "dataset[1:2]"
   ],
   "metadata": {
    "collapsed": false,
    "ExecuteTime": {
     "start_time": "2024-01-09T23:33:44.539219Z",
     "end_time": "2024-01-09T23:33:45.476223Z"
    }
   }
  },
  {
   "cell_type": "code",
   "execution_count": 243,
   "outputs": [
    {
     "name": "stdout",
     "output_type": "stream",
     "text": [
      "   mask_idx                                               text  scores  \\\n",
      "0         9  [CLS] Discharge Summary: Patient: 60-year-old ...     NaN   \n",
      "1         6  COVID-19 Hospital Course: The patient was [MAS...     NaN   \n",
      "2         4  with symptoms of fever, [MASK] cough, and dysp...     NaN   \n",
      "3         3  therapy on the [MASK] ward, the patient experi...     NaN   \n",
      "4         8  that induced oxygen desaturation and dyspnea w...     NaN   \n",
      "5         8  position or deep breathing. To avoid rapid det...     NaN   \n",
      "6         6  failure, a step-by-step approach was used [MAS...     NaN   \n",
      "7         4  breathing exercises were adapted [MASK] avoid ...     NaN   \n",
      "8         2  desaturation, and [MASK] close monitoring, the...     NaN   \n",
      "9         6  strength and walking exercises at a [MASK] lev...     NaN   \n",
      "\n",
      "     score0   answer0    score1     answer1    score2    answer2    score3  \\\n",
      "0  0.378700       and  0.252071           .  0.190173          ,  0.028065   \n",
      "1  0.825775  admitted  0.082366       taken  0.018949    brought  0.017375   \n",
      "2  0.157562      with  0.156352           ,  0.080048         or  0.052325   \n",
      "3  0.147445      left  0.056517      second  0.043402      right  0.035450   \n",
      "4  0.326240  evidence  0.306217       signs  0.076945   symptoms  0.042291   \n",
      "5  0.515576        of  0.294313          in  0.029944       with  0.026835   \n",
      "6  0.997267       for  0.001720          to  0.000806       with  0.000049   \n",
      "7  0.999873        to  0.000047           .  0.000030          :  0.000013   \n",
      "8  0.170271      with  0.092332         for  0.088295  continued  0.058764   \n",
      "9  0.209065     stand  0.205984  functional  0.154354   standing  0.097947   \n",
      "\n",
      "       answer3    score4   answer4  \n",
      "0           on  0.024409      with  \n",
      "1  transferred  0.006739      sent  \n",
      "2            a  0.034960       and  \n",
      "3         ward  0.034947     first  \n",
      "4      history  0.036520  episodes  \n",
      "5         from  0.017975    during  \n",
      "6       during  0.000028     after  \n",
      "7            ;  0.000010      into  \n",
      "8           in  0.044059        by  \n",
      "9     activity  0.079662    normal  \n"
     ]
    }
   ],
   "source": [
    "print(dataset[:10])"
   ],
   "metadata": {
    "collapsed": false,
    "ExecuteTime": {
     "start_time": "2024-01-08T05:54:05.777977Z",
     "end_time": "2024-01-08T05:54:05.785937Z"
    }
   }
  },
  {
   "cell_type": "code",
   "execution_count": 132,
   "outputs": [],
   "source": [
    "def make_answers(examples):\n",
    "    if examples['mask_idx'] != -1:\n",
    "        # MASK 위치 인덱스 가져오기\n",
    "        mask = torch.where(t_tokenizer(examples['text'], return_tensors='pt', add_special_tokens=False)['input_ids'][0] == 103)\n",
    "\n",
    "        # top5 예측의 score, index\n",
    "        top5 = torch.topk(torch.softmax(t_model(**t_tokenizer(examples['text'], return_tensors='pt', add_special_tokens=False)).logits[0][mask], dim=1), 3)\n",
    "        examples['scores'] = top5.values[0]\n",
    "        indices = top5.indices[0]\n",
    "\n",
    "        # top3 token decode\n",
    "        examples['answers'] = t_tokenizer.convert_ids_to_tokens(indices)\n",
    "\n",
    "    else:\n",
    "        examples['scores'] = []\n",
    "        examples['answers'] = []\n",
    "    return examples"
   ],
   "metadata": {
    "collapsed": false,
    "ExecuteTime": {
     "start_time": "2024-01-08T00:52:13.494417Z",
     "end_time": "2024-01-08T00:52:13.497339Z"
    }
   }
  },
  {
   "cell_type": "code",
   "execution_count": 119,
   "outputs": [],
   "source": [
    "# 불필요한 컬럼 삭제\n",
    "datasets_mask = datasets_len10_mask.remove_columns(['note', 'input_ids', 'word_token_idx'])"
   ],
   "metadata": {
    "collapsed": false,
    "ExecuteTime": {
     "start_time": "2024-01-08T00:18:53.033923Z",
     "end_time": "2024-01-08T00:18:53.057382Z"
    }
   }
  },
  {
   "cell_type": "code",
   "execution_count": 133,
   "outputs": [
    {
     "data": {
      "text/plain": "Map (num_proc=4):   0%|          | 0/4417713 [00:00<?, ? examples/s]",
      "application/vnd.jupyter.widget-view+json": {
       "version_major": 2,
       "version_minor": 0,
       "model_id": "d84ecd2e804c41ce85a31fa635cfee08"
      }
     },
     "metadata": {},
     "output_type": "display_data"
    },
    {
     "ename": "TimeoutError",
     "evalue": "",
     "output_type": "error",
     "traceback": [
      "\u001B[0;31m---------------------------------------------------------------------------\u001B[0m",
      "\u001B[0;31mKeyboardInterrupt\u001B[0m                         Traceback (most recent call last)",
      "File \u001B[0;32m/opt/homebrew/Caskroom/miniforge/base/envs/hf/lib/python3.8/site-packages/datasets/utils/py_utils.py:1373\u001B[0m, in \u001B[0;36miflatmap_unordered\u001B[0;34m(pool, func, kwargs_iterable)\u001B[0m\n\u001B[1;32m   1372\u001B[0m \u001B[38;5;28;01mtry\u001B[39;00m:\n\u001B[0;32m-> 1373\u001B[0m     \u001B[38;5;28;01myield\u001B[39;00m \u001B[43mqueue\u001B[49m\u001B[38;5;241;43m.\u001B[39;49m\u001B[43mget\u001B[49m\u001B[43m(\u001B[49m\u001B[43mtimeout\u001B[49m\u001B[38;5;241;43m=\u001B[39;49m\u001B[38;5;241;43m0.05\u001B[39;49m\u001B[43m)\u001B[49m\n\u001B[1;32m   1374\u001B[0m \u001B[38;5;28;01mexcept\u001B[39;00m Empty:\n",
      "File \u001B[0;32m<string>:2\u001B[0m, in \u001B[0;36mget\u001B[0;34m(self, *args, **kwds)\u001B[0m\n",
      "File \u001B[0;32m/opt/homebrew/Caskroom/miniforge/base/envs/hf/lib/python3.8/site-packages/multiprocess/managers.py:835\u001B[0m, in \u001B[0;36mBaseProxy._callmethod\u001B[0;34m(self, methodname, args, kwds)\u001B[0m\n\u001B[1;32m    834\u001B[0m conn\u001B[38;5;241m.\u001B[39msend((\u001B[38;5;28mself\u001B[39m\u001B[38;5;241m.\u001B[39m_id, methodname, args, kwds))\n\u001B[0;32m--> 835\u001B[0m kind, result \u001B[38;5;241m=\u001B[39m \u001B[43mconn\u001B[49m\u001B[38;5;241;43m.\u001B[39;49m\u001B[43mrecv\u001B[49m\u001B[43m(\u001B[49m\u001B[43m)\u001B[49m\n\u001B[1;32m    837\u001B[0m \u001B[38;5;28;01mif\u001B[39;00m kind \u001B[38;5;241m==\u001B[39m \u001B[38;5;124m'\u001B[39m\u001B[38;5;124m#RETURN\u001B[39m\u001B[38;5;124m'\u001B[39m:\n",
      "File \u001B[0;32m/opt/homebrew/Caskroom/miniforge/base/envs/hf/lib/python3.8/site-packages/multiprocess/connection.py:253\u001B[0m, in \u001B[0;36m_ConnectionBase.recv\u001B[0;34m(self)\u001B[0m\n\u001B[1;32m    252\u001B[0m \u001B[38;5;28mself\u001B[39m\u001B[38;5;241m.\u001B[39m_check_readable()\n\u001B[0;32m--> 253\u001B[0m buf \u001B[38;5;241m=\u001B[39m \u001B[38;5;28;43mself\u001B[39;49m\u001B[38;5;241;43m.\u001B[39;49m\u001B[43m_recv_bytes\u001B[49m\u001B[43m(\u001B[49m\u001B[43m)\u001B[49m\n\u001B[1;32m    254\u001B[0m \u001B[38;5;28;01mreturn\u001B[39;00m _ForkingPickler\u001B[38;5;241m.\u001B[39mloads(buf\u001B[38;5;241m.\u001B[39mgetbuffer())\n",
      "File \u001B[0;32m/opt/homebrew/Caskroom/miniforge/base/envs/hf/lib/python3.8/site-packages/multiprocess/connection.py:417\u001B[0m, in \u001B[0;36mConnection._recv_bytes\u001B[0;34m(self, maxsize)\u001B[0m\n\u001B[1;32m    416\u001B[0m \u001B[38;5;28;01mdef\u001B[39;00m \u001B[38;5;21m_recv_bytes\u001B[39m(\u001B[38;5;28mself\u001B[39m, maxsize\u001B[38;5;241m=\u001B[39m\u001B[38;5;28;01mNone\u001B[39;00m):\n\u001B[0;32m--> 417\u001B[0m     buf \u001B[38;5;241m=\u001B[39m \u001B[38;5;28;43mself\u001B[39;49m\u001B[38;5;241;43m.\u001B[39;49m\u001B[43m_recv\u001B[49m\u001B[43m(\u001B[49m\u001B[38;5;241;43m4\u001B[39;49m\u001B[43m)\u001B[49m\n\u001B[1;32m    418\u001B[0m     size, \u001B[38;5;241m=\u001B[39m struct\u001B[38;5;241m.\u001B[39munpack(\u001B[38;5;124m\"\u001B[39m\u001B[38;5;124m!i\u001B[39m\u001B[38;5;124m\"\u001B[39m, buf\u001B[38;5;241m.\u001B[39mgetvalue())\n",
      "File \u001B[0;32m/opt/homebrew/Caskroom/miniforge/base/envs/hf/lib/python3.8/site-packages/multiprocess/connection.py:382\u001B[0m, in \u001B[0;36mConnection._recv\u001B[0;34m(self, size, read)\u001B[0m\n\u001B[1;32m    381\u001B[0m \u001B[38;5;28;01mwhile\u001B[39;00m remaining \u001B[38;5;241m>\u001B[39m \u001B[38;5;241m0\u001B[39m:\n\u001B[0;32m--> 382\u001B[0m     chunk \u001B[38;5;241m=\u001B[39m \u001B[43mread\u001B[49m\u001B[43m(\u001B[49m\u001B[43mhandle\u001B[49m\u001B[43m,\u001B[49m\u001B[43m \u001B[49m\u001B[43mremaining\u001B[49m\u001B[43m)\u001B[49m\n\u001B[1;32m    383\u001B[0m     n \u001B[38;5;241m=\u001B[39m \u001B[38;5;28mlen\u001B[39m(chunk)\n",
      "\u001B[0;31mKeyboardInterrupt\u001B[0m: ",
      "\nDuring handling of the above exception, another exception occurred:\n",
      "\u001B[0;31mTimeoutError\u001B[0m                              Traceback (most recent call last)",
      "Cell \u001B[0;32mIn[133], line 1\u001B[0m\n\u001B[0;32m----> 1\u001B[0m datasets_by_teacher \u001B[38;5;241m=\u001B[39m \u001B[43mdatasets_mask\u001B[49m\u001B[38;5;241;43m.\u001B[39;49m\u001B[43mmap\u001B[49m\u001B[43m(\u001B[49m\u001B[43mmake_answers\u001B[49m\u001B[43m,\u001B[49m\u001B[43m \u001B[49m\u001B[43mnum_proc\u001B[49m\u001B[38;5;241;43m=\u001B[39;49m\u001B[38;5;241;43m4\u001B[39;49m\u001B[43m)\u001B[49m\n",
      "File \u001B[0;32m/opt/homebrew/Caskroom/miniforge/base/envs/hf/lib/python3.8/site-packages/datasets/arrow_dataset.py:578\u001B[0m, in \u001B[0;36mtransmit_tasks.<locals>.wrapper\u001B[0;34m(*args, **kwargs)\u001B[0m\n\u001B[1;32m    576\u001B[0m     \u001B[38;5;28mself\u001B[39m: \u001B[38;5;124m\"\u001B[39m\u001B[38;5;124mDataset\u001B[39m\u001B[38;5;124m\"\u001B[39m \u001B[38;5;241m=\u001B[39m kwargs\u001B[38;5;241m.\u001B[39mpop(\u001B[38;5;124m\"\u001B[39m\u001B[38;5;124mself\u001B[39m\u001B[38;5;124m\"\u001B[39m)\n\u001B[1;32m    577\u001B[0m \u001B[38;5;66;03m# apply actual function\u001B[39;00m\n\u001B[0;32m--> 578\u001B[0m out: Union[\u001B[38;5;124m\"\u001B[39m\u001B[38;5;124mDataset\u001B[39m\u001B[38;5;124m\"\u001B[39m, \u001B[38;5;124m\"\u001B[39m\u001B[38;5;124mDatasetDict\u001B[39m\u001B[38;5;124m\"\u001B[39m] \u001B[38;5;241m=\u001B[39m \u001B[43mfunc\u001B[49m\u001B[43m(\u001B[49m\u001B[38;5;28;43mself\u001B[39;49m\u001B[43m,\u001B[49m\u001B[43m \u001B[49m\u001B[38;5;241;43m*\u001B[39;49m\u001B[43margs\u001B[49m\u001B[43m,\u001B[49m\u001B[43m \u001B[49m\u001B[38;5;241;43m*\u001B[39;49m\u001B[38;5;241;43m*\u001B[39;49m\u001B[43mkwargs\u001B[49m\u001B[43m)\u001B[49m\n\u001B[1;32m    579\u001B[0m datasets: List[\u001B[38;5;124m\"\u001B[39m\u001B[38;5;124mDataset\u001B[39m\u001B[38;5;124m\"\u001B[39m] \u001B[38;5;241m=\u001B[39m \u001B[38;5;28mlist\u001B[39m(out\u001B[38;5;241m.\u001B[39mvalues()) \u001B[38;5;28;01mif\u001B[39;00m \u001B[38;5;28misinstance\u001B[39m(out, \u001B[38;5;28mdict\u001B[39m) \u001B[38;5;28;01melse\u001B[39;00m [out]\n\u001B[1;32m    580\u001B[0m \u001B[38;5;28;01mfor\u001B[39;00m dataset \u001B[38;5;129;01min\u001B[39;00m datasets:\n\u001B[1;32m    581\u001B[0m     \u001B[38;5;66;03m# Remove task templates if a column mapping of the template is no longer valid\u001B[39;00m\n",
      "File \u001B[0;32m/opt/homebrew/Caskroom/miniforge/base/envs/hf/lib/python3.8/site-packages/datasets/arrow_dataset.py:543\u001B[0m, in \u001B[0;36mtransmit_format.<locals>.wrapper\u001B[0;34m(*args, **kwargs)\u001B[0m\n\u001B[1;32m    536\u001B[0m self_format \u001B[38;5;241m=\u001B[39m {\n\u001B[1;32m    537\u001B[0m     \u001B[38;5;124m\"\u001B[39m\u001B[38;5;124mtype\u001B[39m\u001B[38;5;124m\"\u001B[39m: \u001B[38;5;28mself\u001B[39m\u001B[38;5;241m.\u001B[39m_format_type,\n\u001B[1;32m    538\u001B[0m     \u001B[38;5;124m\"\u001B[39m\u001B[38;5;124mformat_kwargs\u001B[39m\u001B[38;5;124m\"\u001B[39m: \u001B[38;5;28mself\u001B[39m\u001B[38;5;241m.\u001B[39m_format_kwargs,\n\u001B[1;32m    539\u001B[0m     \u001B[38;5;124m\"\u001B[39m\u001B[38;5;124mcolumns\u001B[39m\u001B[38;5;124m\"\u001B[39m: \u001B[38;5;28mself\u001B[39m\u001B[38;5;241m.\u001B[39m_format_columns,\n\u001B[1;32m    540\u001B[0m     \u001B[38;5;124m\"\u001B[39m\u001B[38;5;124moutput_all_columns\u001B[39m\u001B[38;5;124m\"\u001B[39m: \u001B[38;5;28mself\u001B[39m\u001B[38;5;241m.\u001B[39m_output_all_columns,\n\u001B[1;32m    541\u001B[0m }\n\u001B[1;32m    542\u001B[0m \u001B[38;5;66;03m# apply actual function\u001B[39;00m\n\u001B[0;32m--> 543\u001B[0m out: Union[\u001B[38;5;124m\"\u001B[39m\u001B[38;5;124mDataset\u001B[39m\u001B[38;5;124m\"\u001B[39m, \u001B[38;5;124m\"\u001B[39m\u001B[38;5;124mDatasetDict\u001B[39m\u001B[38;5;124m\"\u001B[39m] \u001B[38;5;241m=\u001B[39m \u001B[43mfunc\u001B[49m\u001B[43m(\u001B[49m\u001B[38;5;28;43mself\u001B[39;49m\u001B[43m,\u001B[49m\u001B[43m \u001B[49m\u001B[38;5;241;43m*\u001B[39;49m\u001B[43margs\u001B[49m\u001B[43m,\u001B[49m\u001B[43m \u001B[49m\u001B[38;5;241;43m*\u001B[39;49m\u001B[38;5;241;43m*\u001B[39;49m\u001B[43mkwargs\u001B[49m\u001B[43m)\u001B[49m\n\u001B[1;32m    544\u001B[0m datasets: List[\u001B[38;5;124m\"\u001B[39m\u001B[38;5;124mDataset\u001B[39m\u001B[38;5;124m\"\u001B[39m] \u001B[38;5;241m=\u001B[39m \u001B[38;5;28mlist\u001B[39m(out\u001B[38;5;241m.\u001B[39mvalues()) \u001B[38;5;28;01mif\u001B[39;00m \u001B[38;5;28misinstance\u001B[39m(out, \u001B[38;5;28mdict\u001B[39m) \u001B[38;5;28;01melse\u001B[39;00m [out]\n\u001B[1;32m    545\u001B[0m \u001B[38;5;66;03m# re-apply format to the output\u001B[39;00m\n",
      "File \u001B[0;32m/opt/homebrew/Caskroom/miniforge/base/envs/hf/lib/python3.8/site-packages/datasets/arrow_dataset.py:3166\u001B[0m, in \u001B[0;36mDataset.map\u001B[0;34m(self, function, with_indices, with_rank, input_columns, batched, batch_size, drop_last_batch, remove_columns, keep_in_memory, load_from_cache_file, cache_file_name, writer_batch_size, features, disable_nullable, fn_kwargs, num_proc, suffix_template, new_fingerprint, desc)\u001B[0m\n\u001B[1;32m   3158\u001B[0m logger\u001B[38;5;241m.\u001B[39minfo(\u001B[38;5;124mf\u001B[39m\u001B[38;5;124m\"\u001B[39m\u001B[38;5;124mSpawning \u001B[39m\u001B[38;5;132;01m{\u001B[39;00mnum_proc\u001B[38;5;132;01m}\u001B[39;00m\u001B[38;5;124m processes\u001B[39m\u001B[38;5;124m\"\u001B[39m)\n\u001B[1;32m   3159\u001B[0m \u001B[38;5;28;01mwith\u001B[39;00m logging\u001B[38;5;241m.\u001B[39mtqdm(\n\u001B[1;32m   3160\u001B[0m     disable\u001B[38;5;241m=\u001B[39m\u001B[38;5;129;01mnot\u001B[39;00m logging\u001B[38;5;241m.\u001B[39mis_progress_bar_enabled(),\n\u001B[1;32m   3161\u001B[0m     unit\u001B[38;5;241m=\u001B[39m\u001B[38;5;124m\"\u001B[39m\u001B[38;5;124m examples\u001B[39m\u001B[38;5;124m\"\u001B[39m,\n\u001B[0;32m   (...)\u001B[0m\n\u001B[1;32m   3164\u001B[0m     desc\u001B[38;5;241m=\u001B[39m(desc \u001B[38;5;129;01mor\u001B[39;00m \u001B[38;5;124m\"\u001B[39m\u001B[38;5;124mMap\u001B[39m\u001B[38;5;124m\"\u001B[39m) \u001B[38;5;241m+\u001B[39m \u001B[38;5;124mf\u001B[39m\u001B[38;5;124m\"\u001B[39m\u001B[38;5;124m (num_proc=\u001B[39m\u001B[38;5;132;01m{\u001B[39;00mnum_proc\u001B[38;5;132;01m}\u001B[39;00m\u001B[38;5;124m)\u001B[39m\u001B[38;5;124m\"\u001B[39m,\n\u001B[1;32m   3165\u001B[0m ) \u001B[38;5;28;01mas\u001B[39;00m pbar:\n\u001B[0;32m-> 3166\u001B[0m     \u001B[38;5;28;01mfor\u001B[39;00m rank, done, content \u001B[38;5;129;01min\u001B[39;00m iflatmap_unordered(\n\u001B[1;32m   3167\u001B[0m         pool, Dataset\u001B[38;5;241m.\u001B[39m_map_single, kwargs_iterable\u001B[38;5;241m=\u001B[39mkwargs_per_job\n\u001B[1;32m   3168\u001B[0m     ):\n\u001B[1;32m   3169\u001B[0m         \u001B[38;5;28;01mif\u001B[39;00m done:\n\u001B[1;32m   3170\u001B[0m             shards_done \u001B[38;5;241m+\u001B[39m\u001B[38;5;241m=\u001B[39m \u001B[38;5;241m1\u001B[39m\n",
      "File \u001B[0;32m/opt/homebrew/Caskroom/miniforge/base/envs/hf/lib/python3.8/site-packages/datasets/utils/py_utils.py:1379\u001B[0m, in \u001B[0;36miflatmap_unordered\u001B[0;34m(pool, func, kwargs_iterable)\u001B[0m\n\u001B[1;32m   1376\u001B[0m                 \u001B[38;5;28;01mbreak\u001B[39;00m\n\u001B[1;32m   1377\u001B[0m \u001B[38;5;28;01mfinally\u001B[39;00m:\n\u001B[1;32m   1378\u001B[0m     \u001B[38;5;66;03m# we get the result in case there's an error to raise\u001B[39;00m\n\u001B[0;32m-> 1379\u001B[0m     [async_result\u001B[38;5;241m.\u001B[39mget(timeout\u001B[38;5;241m=\u001B[39m\u001B[38;5;241m0.05\u001B[39m) \u001B[38;5;28;01mfor\u001B[39;00m async_result \u001B[38;5;129;01min\u001B[39;00m async_results]\n",
      "File \u001B[0;32m/opt/homebrew/Caskroom/miniforge/base/envs/hf/lib/python3.8/site-packages/datasets/utils/py_utils.py:1379\u001B[0m, in \u001B[0;36m<listcomp>\u001B[0;34m(.0)\u001B[0m\n\u001B[1;32m   1376\u001B[0m                 \u001B[38;5;28;01mbreak\u001B[39;00m\n\u001B[1;32m   1377\u001B[0m \u001B[38;5;28;01mfinally\u001B[39;00m:\n\u001B[1;32m   1378\u001B[0m     \u001B[38;5;66;03m# we get the result in case there's an error to raise\u001B[39;00m\n\u001B[0;32m-> 1379\u001B[0m     [\u001B[43masync_result\u001B[49m\u001B[38;5;241;43m.\u001B[39;49m\u001B[43mget\u001B[49m\u001B[43m(\u001B[49m\u001B[43mtimeout\u001B[49m\u001B[38;5;241;43m=\u001B[39;49m\u001B[38;5;241;43m0.05\u001B[39;49m\u001B[43m)\u001B[49m \u001B[38;5;28;01mfor\u001B[39;00m async_result \u001B[38;5;129;01min\u001B[39;00m async_results]\n",
      "File \u001B[0;32m/opt/homebrew/Caskroom/miniforge/base/envs/hf/lib/python3.8/site-packages/multiprocess/pool.py:767\u001B[0m, in \u001B[0;36mApplyResult.get\u001B[0;34m(self, timeout)\u001B[0m\n\u001B[1;32m    765\u001B[0m \u001B[38;5;28mself\u001B[39m\u001B[38;5;241m.\u001B[39mwait(timeout)\n\u001B[1;32m    766\u001B[0m \u001B[38;5;28;01mif\u001B[39;00m \u001B[38;5;129;01mnot\u001B[39;00m \u001B[38;5;28mself\u001B[39m\u001B[38;5;241m.\u001B[39mready():\n\u001B[0;32m--> 767\u001B[0m     \u001B[38;5;28;01mraise\u001B[39;00m \u001B[38;5;167;01mTimeoutError\u001B[39;00m\n\u001B[1;32m    768\u001B[0m \u001B[38;5;28;01mif\u001B[39;00m \u001B[38;5;28mself\u001B[39m\u001B[38;5;241m.\u001B[39m_success:\n\u001B[1;32m    769\u001B[0m     \u001B[38;5;28;01mreturn\u001B[39;00m \u001B[38;5;28mself\u001B[39m\u001B[38;5;241m.\u001B[39m_value\n",
      "\u001B[0;31mTimeoutError\u001B[0m: "
     ]
    }
   ],
   "source": [
    "# 데이터셋 생성\n",
    "datasets_by_teacher = datasets_mask.map(make_answers, num_proc=4)"
   ],
   "metadata": {
    "collapsed": false,
    "ExecuteTime": {
     "start_time": "2024-01-08T00:05:47.929218Z",
     "end_time": "2024-01-08T00:05:47.937364Z"
    }
   }
  },
  {
   "cell_type": "code",
   "execution_count": 125,
   "outputs": [
    {
     "data": {
      "text/plain": "Saving the dataset (0/1 shards):   0%|          | 0/4417713 [00:00<?, ? examples/s]",
      "application/vnd.jupyter.widget-view+json": {
       "version_major": 2,
       "version_minor": 0,
       "model_id": "83fd706d08634e3d88d6341e820224c5"
      }
     },
     "metadata": {},
     "output_type": "display_data"
    }
   ],
   "source": [
    "# 데이터셋 저장\n",
    "datasets_mask.save_to_disk(\"./datasets_for_teacher\")  # 저장 경로명 변경"
   ],
   "metadata": {
    "collapsed": false,
    "ExecuteTime": {
     "start_time": "2024-01-08T00:25:55.214527Z",
     "end_time": "2024-01-08T00:25:56.316072Z"
    }
   }
  },
  {
   "cell_type": "markdown",
   "source": [
    "# df->dataset 재구성"
   ],
   "metadata": {
    "collapsed": false
   }
  },
  {
   "cell_type": "code",
   "execution_count": 248,
   "outputs": [
    {
     "data": {
      "text/plain": "        mask_idx                                               text    score0  \\\n0              9  [CLS] Discharge Summary: Patient: 60-year-old ...  0.378695   \n1              6  COVID-19 Hospital Course: The patient was [MAS...  0.825758   \n2              4  with symptoms of fever, [MASK] cough, and dysp...  0.157553   \n3              3  therapy on the [MASK] ward, the patient experi...  0.147441   \n4              8  that induced oxygen desaturation and dyspnea w...  0.326227   \n...          ...                                                ...       ...   \n999995         0  [MASK] of Admission: Date of Discharge: Hospit...  0.790553   \n999996         5  was admitted with a cellulitis-like [MASK] on ...  0.275740   \n999997         7  thigh that rapidly extended, resulting in seve...  0.143695   \n999998         4  the lower right leg. [MASK] Doppler ultrasound...  0.114812   \n999999         5  of thrombosis, and laboratory investigations [...  0.489325   \n\n         answer0    score1    answer1    score2   answer2    score3  \\\n0            and  0.252060          .  0.190167         ,  0.028064   \n1       admitted  0.082363      taken  0.018948   brought  0.017375   \n2           with  0.156345          ,  0.080044        or  0.052322   \n3           left  0.056515     second  0.043400     right  0.035449   \n4       evidence  0.306204      signs  0.076941  symptoms  0.042288   \n...          ...       ...        ...       ...       ...       ...   \n999995         .  0.019301          :  0.014404       the  0.004306   \n999996      mass  0.257761  infection  0.033955    plaque  0.030711   \n999997      back  0.115882      chest  0.093451    severe  0.064571   \n999998         :  0.099318        leg  0.095888        le  0.080828   \n999999  revealed  0.192168     showed  0.070509         :  0.066254   \n\n             answer3    score4   answer4  \n0                 on  0.024408      with  \n1        transferred  0.006738      sent  \n2                  a  0.034958       and  \n3               ward  0.034946     first  \n4            history  0.036518  episodes  \n...              ...       ...       ...  \n999995             ,  0.004152       was  \n999996      pressure  0.027997      area  \n999997       chronic  0.057187       leg  \n999998         right  0.077498       rue  \n999999  demonstrated  0.032970      were  \n\n[1000000 rows x 12 columns]",
      "text/html": "<div>\n<style scoped>\n    .dataframe tbody tr th:only-of-type {\n        vertical-align: middle;\n    }\n\n    .dataframe tbody tr th {\n        vertical-align: top;\n    }\n\n    .dataframe thead th {\n        text-align: right;\n    }\n</style>\n<table border=\"1\" class=\"dataframe\">\n  <thead>\n    <tr style=\"text-align: right;\">\n      <th></th>\n      <th>mask_idx</th>\n      <th>text</th>\n      <th>score0</th>\n      <th>answer0</th>\n      <th>score1</th>\n      <th>answer1</th>\n      <th>score2</th>\n      <th>answer2</th>\n      <th>score3</th>\n      <th>answer3</th>\n      <th>score4</th>\n      <th>answer4</th>\n    </tr>\n  </thead>\n  <tbody>\n    <tr>\n      <th>0</th>\n      <td>9</td>\n      <td>[CLS] Discharge Summary: Patient: 60-year-old ...</td>\n      <td>0.378695</td>\n      <td>and</td>\n      <td>0.252060</td>\n      <td>.</td>\n      <td>0.190167</td>\n      <td>,</td>\n      <td>0.028064</td>\n      <td>on</td>\n      <td>0.024408</td>\n      <td>with</td>\n    </tr>\n    <tr>\n      <th>1</th>\n      <td>6</td>\n      <td>COVID-19 Hospital Course: The patient was [MAS...</td>\n      <td>0.825758</td>\n      <td>admitted</td>\n      <td>0.082363</td>\n      <td>taken</td>\n      <td>0.018948</td>\n      <td>brought</td>\n      <td>0.017375</td>\n      <td>transferred</td>\n      <td>0.006738</td>\n      <td>sent</td>\n    </tr>\n    <tr>\n      <th>2</th>\n      <td>4</td>\n      <td>with symptoms of fever, [MASK] cough, and dysp...</td>\n      <td>0.157553</td>\n      <td>with</td>\n      <td>0.156345</td>\n      <td>,</td>\n      <td>0.080044</td>\n      <td>or</td>\n      <td>0.052322</td>\n      <td>a</td>\n      <td>0.034958</td>\n      <td>and</td>\n    </tr>\n    <tr>\n      <th>3</th>\n      <td>3</td>\n      <td>therapy on the [MASK] ward, the patient experi...</td>\n      <td>0.147441</td>\n      <td>left</td>\n      <td>0.056515</td>\n      <td>second</td>\n      <td>0.043400</td>\n      <td>right</td>\n      <td>0.035449</td>\n      <td>ward</td>\n      <td>0.034946</td>\n      <td>first</td>\n    </tr>\n    <tr>\n      <th>4</th>\n      <td>8</td>\n      <td>that induced oxygen desaturation and dyspnea w...</td>\n      <td>0.326227</td>\n      <td>evidence</td>\n      <td>0.306204</td>\n      <td>signs</td>\n      <td>0.076941</td>\n      <td>symptoms</td>\n      <td>0.042288</td>\n      <td>history</td>\n      <td>0.036518</td>\n      <td>episodes</td>\n    </tr>\n    <tr>\n      <th>...</th>\n      <td>...</td>\n      <td>...</td>\n      <td>...</td>\n      <td>...</td>\n      <td>...</td>\n      <td>...</td>\n      <td>...</td>\n      <td>...</td>\n      <td>...</td>\n      <td>...</td>\n      <td>...</td>\n      <td>...</td>\n    </tr>\n    <tr>\n      <th>999995</th>\n      <td>0</td>\n      <td>[MASK] of Admission: Date of Discharge: Hospit...</td>\n      <td>0.790553</td>\n      <td>.</td>\n      <td>0.019301</td>\n      <td>:</td>\n      <td>0.014404</td>\n      <td>the</td>\n      <td>0.004306</td>\n      <td>,</td>\n      <td>0.004152</td>\n      <td>was</td>\n    </tr>\n    <tr>\n      <th>999996</th>\n      <td>5</td>\n      <td>was admitted with a cellulitis-like [MASK] on ...</td>\n      <td>0.275740</td>\n      <td>mass</td>\n      <td>0.257761</td>\n      <td>infection</td>\n      <td>0.033955</td>\n      <td>plaque</td>\n      <td>0.030711</td>\n      <td>pressure</td>\n      <td>0.027997</td>\n      <td>area</td>\n    </tr>\n    <tr>\n      <th>999997</th>\n      <td>7</td>\n      <td>thigh that rapidly extended, resulting in seve...</td>\n      <td>0.143695</td>\n      <td>back</td>\n      <td>0.115882</td>\n      <td>chest</td>\n      <td>0.093451</td>\n      <td>severe</td>\n      <td>0.064571</td>\n      <td>chronic</td>\n      <td>0.057187</td>\n      <td>leg</td>\n    </tr>\n    <tr>\n      <th>999998</th>\n      <td>4</td>\n      <td>the lower right leg. [MASK] Doppler ultrasound...</td>\n      <td>0.114812</td>\n      <td>:</td>\n      <td>0.099318</td>\n      <td>leg</td>\n      <td>0.095888</td>\n      <td>le</td>\n      <td>0.080828</td>\n      <td>right</td>\n      <td>0.077498</td>\n      <td>rue</td>\n    </tr>\n    <tr>\n      <th>999999</th>\n      <td>5</td>\n      <td>of thrombosis, and laboratory investigations [...</td>\n      <td>0.489325</td>\n      <td>revealed</td>\n      <td>0.192168</td>\n      <td>showed</td>\n      <td>0.070509</td>\n      <td>:</td>\n      <td>0.066254</td>\n      <td>demonstrated</td>\n      <td>0.032970</td>\n      <td>were</td>\n    </tr>\n  </tbody>\n</table>\n<p>1000000 rows × 12 columns</p>\n</div>"
     },
     "execution_count": 248,
     "metadata": {},
     "output_type": "execute_result"
    }
   ],
   "source": [
    "df = pd.read_csv('datasets_by_teacher_1m.csv')\n",
    "df"
   ],
   "metadata": {
    "collapsed": false,
    "ExecuteTime": {
     "start_time": "2024-01-09T02:07:06.073181Z",
     "end_time": "2024-01-09T02:07:07.520369Z"
    }
   }
  },
  {
   "cell_type": "code",
   "execution_count": 258,
   "outputs": [
    {
     "name": "stdout",
     "output_type": "stream",
     "text": [
      "Execution time: 0.001013040542602539 seconds for 0 rows\n",
      "Execution time: 118.27883791923523 seconds for 100000 rows\n",
      "Execution time: 525.9422867298126 seconds for 200000 rows\n",
      "Execution time: 1243.1712789535522 seconds for 300000 rows\n"
     ]
    },
    {
     "ename": "KeyboardInterrupt",
     "evalue": "",
     "output_type": "error",
     "traceback": [
      "\u001B[0;31m---------------------------------------------------------------------------\u001B[0m",
      "\u001B[0;31mKeyboardInterrupt\u001B[0m                         Traceback (most recent call last)",
      "Cell \u001B[0;32mIn[258], line 14\u001B[0m\n\u001B[1;32m      6\u001B[0m \u001B[38;5;28;01mif\u001B[39;00m df\u001B[38;5;241m.\u001B[39mloc[i, \u001B[38;5;124m'\u001B[39m\u001B[38;5;124mmask_idx\u001B[39m\u001B[38;5;124m'\u001B[39m] \u001B[38;5;241m!=\u001B[39m \u001B[38;5;241m-\u001B[39m\u001B[38;5;241m1\u001B[39m :\n\u001B[1;32m      7\u001B[0m     \u001B[38;5;66;03m# 새로운 행 추가 - append() 메서드 사용\u001B[39;00m\n\u001B[1;32m      8\u001B[0m     new_data\u001B[38;5;241m=\u001B[39m pd\u001B[38;5;241m.\u001B[39mDataFrame({\u001B[38;5;124m'\u001B[39m\u001B[38;5;124mnew_text\u001B[39m\u001B[38;5;124m'\u001B[39m: [df\u001B[38;5;241m.\u001B[39mloc[i, \u001B[38;5;124m'\u001B[39m\u001B[38;5;124mtext\u001B[39m\u001B[38;5;124m'\u001B[39m]\u001B[38;5;241m.\u001B[39mreplace(\u001B[38;5;124m'\u001B[39m\u001B[38;5;124m[MASK]\u001B[39m\u001B[38;5;124m'\u001B[39m, \u001B[38;5;28mstr\u001B[39m(df\u001B[38;5;241m.\u001B[39mloc[i, \u001B[38;5;124m'\u001B[39m\u001B[38;5;124manswer0\u001B[39m\u001B[38;5;124m'\u001B[39m])),\n\u001B[1;32m      9\u001B[0m                                            df\u001B[38;5;241m.\u001B[39mloc[i, \u001B[38;5;124m'\u001B[39m\u001B[38;5;124mtext\u001B[39m\u001B[38;5;124m'\u001B[39m]\u001B[38;5;241m.\u001B[39mreplace(\u001B[38;5;124m'\u001B[39m\u001B[38;5;124m[MASK]\u001B[39m\u001B[38;5;124m'\u001B[39m, \u001B[38;5;28mstr\u001B[39m(df\u001B[38;5;241m.\u001B[39mloc[i, \u001B[38;5;124m'\u001B[39m\u001B[38;5;124manswer1\u001B[39m\u001B[38;5;124m'\u001B[39m]))],\n\u001B[1;32m     10\u001B[0m                 \u001B[38;5;124m'\u001B[39m\u001B[38;5;124mmask_idx\u001B[39m\u001B[38;5;124m'\u001B[39m: [df\u001B[38;5;241m.\u001B[39mloc[i, \u001B[38;5;124m'\u001B[39m\u001B[38;5;124mmask_idx\u001B[39m\u001B[38;5;124m'\u001B[39m],\n\u001B[1;32m     11\u001B[0m                              df\u001B[38;5;241m.\u001B[39mloc[i, \u001B[38;5;124m'\u001B[39m\u001B[38;5;124mmask_idx\u001B[39m\u001B[38;5;124m'\u001B[39m]],\n\u001B[1;32m     12\u001B[0m                  \u001B[38;5;124m'\u001B[39m\u001B[38;5;124mscore\u001B[39m\u001B[38;5;124m'\u001B[39m: [df\u001B[38;5;241m.\u001B[39mloc[i, \u001B[38;5;124m'\u001B[39m\u001B[38;5;124mscore0\u001B[39m\u001B[38;5;124m'\u001B[39m],\n\u001B[1;32m     13\u001B[0m                            df\u001B[38;5;241m.\u001B[39mloc[i, \u001B[38;5;124m'\u001B[39m\u001B[38;5;124mscore1\u001B[39m\u001B[38;5;124m'\u001B[39m]]})\n\u001B[0;32m---> 14\u001B[0m     new_df \u001B[38;5;241m=\u001B[39m \u001B[43mpd\u001B[49m\u001B[38;5;241;43m.\u001B[39;49m\u001B[43mconcat\u001B[49m\u001B[43m(\u001B[49m\u001B[43m[\u001B[49m\u001B[43mnew_df\u001B[49m\u001B[43m,\u001B[49m\u001B[43m \u001B[49m\u001B[43mnew_data\u001B[49m\u001B[43m]\u001B[49m\u001B[43m)\u001B[49m\n\u001B[1;32m     15\u001B[0m \u001B[38;5;28;01melse\u001B[39;00m:\n\u001B[1;32m     16\u001B[0m     data \u001B[38;5;241m=\u001B[39m pd\u001B[38;5;241m.\u001B[39mDataFrame({\u001B[38;5;124m'\u001B[39m\u001B[38;5;124mnew_text\u001B[39m\u001B[38;5;124m'\u001B[39m: [df\u001B[38;5;241m.\u001B[39mloc[i, \u001B[38;5;124m'\u001B[39m\u001B[38;5;124mtext\u001B[39m\u001B[38;5;124m'\u001B[39m]],\n\u001B[1;32m     17\u001B[0m                 \u001B[38;5;124m'\u001B[39m\u001B[38;5;124mmask_idx\u001B[39m\u001B[38;5;124m'\u001B[39m: [\u001B[38;5;241m-\u001B[39m\u001B[38;5;241m1\u001B[39m],\n\u001B[1;32m     18\u001B[0m                  \u001B[38;5;124m'\u001B[39m\u001B[38;5;124mscore\u001B[39m\u001B[38;5;124m'\u001B[39m: [\u001B[38;5;241m1\u001B[39m]})\n",
      "File \u001B[0;32m/opt/homebrew/Caskroom/miniforge/base/envs/hf/lib/python3.8/site-packages/pandas/core/reshape/concat.py:385\u001B[0m, in \u001B[0;36mconcat\u001B[0;34m(objs, axis, join, ignore_index, keys, levels, names, verify_integrity, sort, copy)\u001B[0m\n\u001B[1;32m    370\u001B[0m     copy \u001B[38;5;241m=\u001B[39m \u001B[38;5;28;01mFalse\u001B[39;00m\n\u001B[1;32m    372\u001B[0m op \u001B[38;5;241m=\u001B[39m _Concatenator(\n\u001B[1;32m    373\u001B[0m     objs,\n\u001B[1;32m    374\u001B[0m     axis\u001B[38;5;241m=\u001B[39maxis,\n\u001B[0;32m   (...)\u001B[0m\n\u001B[1;32m    382\u001B[0m     sort\u001B[38;5;241m=\u001B[39msort,\n\u001B[1;32m    383\u001B[0m )\n\u001B[0;32m--> 385\u001B[0m \u001B[38;5;28;01mreturn\u001B[39;00m \u001B[43mop\u001B[49m\u001B[38;5;241;43m.\u001B[39;49m\u001B[43mget_result\u001B[49m\u001B[43m(\u001B[49m\u001B[43m)\u001B[49m\n",
      "File \u001B[0;32m/opt/homebrew/Caskroom/miniforge/base/envs/hf/lib/python3.8/site-packages/pandas/core/reshape/concat.py:616\u001B[0m, in \u001B[0;36m_Concatenator.get_result\u001B[0;34m(self)\u001B[0m\n\u001B[1;32m    612\u001B[0m             indexers[ax] \u001B[38;5;241m=\u001B[39m obj_labels\u001B[38;5;241m.\u001B[39mget_indexer(new_labels)\n\u001B[1;32m    614\u001B[0m     mgrs_indexers\u001B[38;5;241m.\u001B[39mappend((obj\u001B[38;5;241m.\u001B[39m_mgr, indexers))\n\u001B[0;32m--> 616\u001B[0m new_data \u001B[38;5;241m=\u001B[39m \u001B[43mconcatenate_managers\u001B[49m\u001B[43m(\u001B[49m\n\u001B[1;32m    617\u001B[0m \u001B[43m    \u001B[49m\u001B[43mmgrs_indexers\u001B[49m\u001B[43m,\u001B[49m\u001B[43m \u001B[49m\u001B[38;5;28;43mself\u001B[39;49m\u001B[38;5;241;43m.\u001B[39;49m\u001B[43mnew_axes\u001B[49m\u001B[43m,\u001B[49m\u001B[43m \u001B[49m\u001B[43mconcat_axis\u001B[49m\u001B[38;5;241;43m=\u001B[39;49m\u001B[38;5;28;43mself\u001B[39;49m\u001B[38;5;241;43m.\u001B[39;49m\u001B[43mbm_axis\u001B[49m\u001B[43m,\u001B[49m\u001B[43m \u001B[49m\u001B[43mcopy\u001B[49m\u001B[38;5;241;43m=\u001B[39;49m\u001B[38;5;28;43mself\u001B[39;49m\u001B[38;5;241;43m.\u001B[39;49m\u001B[43mcopy\u001B[49m\n\u001B[1;32m    618\u001B[0m \u001B[43m\u001B[49m\u001B[43m)\u001B[49m\n\u001B[1;32m    619\u001B[0m \u001B[38;5;28;01mif\u001B[39;00m \u001B[38;5;129;01mnot\u001B[39;00m \u001B[38;5;28mself\u001B[39m\u001B[38;5;241m.\u001B[39mcopy \u001B[38;5;129;01mand\u001B[39;00m \u001B[38;5;129;01mnot\u001B[39;00m using_copy_on_write():\n\u001B[1;32m    620\u001B[0m     new_data\u001B[38;5;241m.\u001B[39m_consolidate_inplace()\n",
      "File \u001B[0;32m/opt/homebrew/Caskroom/miniforge/base/envs/hf/lib/python3.8/site-packages/pandas/core/internals/concat.py:232\u001B[0m, in \u001B[0;36mconcatenate_managers\u001B[0;34m(mgrs_indexers, axes, concat_axis, copy)\u001B[0m\n\u001B[1;32m    226\u001B[0m vals \u001B[38;5;241m=\u001B[39m [ju\u001B[38;5;241m.\u001B[39mblock\u001B[38;5;241m.\u001B[39mvalues \u001B[38;5;28;01mfor\u001B[39;00m ju \u001B[38;5;129;01min\u001B[39;00m join_units]\n\u001B[1;32m    228\u001B[0m \u001B[38;5;28;01mif\u001B[39;00m \u001B[38;5;129;01mnot\u001B[39;00m blk\u001B[38;5;241m.\u001B[39mis_extension:\n\u001B[1;32m    229\u001B[0m     \u001B[38;5;66;03m# _is_uniform_join_units ensures a single dtype, so\u001B[39;00m\n\u001B[1;32m    230\u001B[0m     \u001B[38;5;66;03m#  we can use np.concatenate, which is more performant\u001B[39;00m\n\u001B[1;32m    231\u001B[0m     \u001B[38;5;66;03m#  than concat_compat\u001B[39;00m\n\u001B[0;32m--> 232\u001B[0m     values \u001B[38;5;241m=\u001B[39m \u001B[43mnp\u001B[49m\u001B[38;5;241;43m.\u001B[39;49m\u001B[43mconcatenate\u001B[49m\u001B[43m(\u001B[49m\u001B[43mvals\u001B[49m\u001B[43m,\u001B[49m\u001B[43m \u001B[49m\u001B[43maxis\u001B[49m\u001B[38;5;241;43m=\u001B[39;49m\u001B[38;5;241;43m1\u001B[39;49m\u001B[43m)\u001B[49m\n\u001B[1;32m    233\u001B[0m \u001B[38;5;28;01melse\u001B[39;00m:\n\u001B[1;32m    234\u001B[0m     \u001B[38;5;66;03m# TODO(EA2D): special-casing not needed with 2D EAs\u001B[39;00m\n\u001B[1;32m    235\u001B[0m     values \u001B[38;5;241m=\u001B[39m concat_compat(vals, axis\u001B[38;5;241m=\u001B[39m\u001B[38;5;241m1\u001B[39m)\n",
      "File \u001B[0;32m<__array_function__ internals>:200\u001B[0m, in \u001B[0;36mconcatenate\u001B[0;34m(*args, **kwargs)\u001B[0m\n",
      "\u001B[0;31mKeyboardInterrupt\u001B[0m: "
     ]
    }
   ],
   "source": [
    "columns = ['new_text', 'mask_idx', 'score']  # 열 이름 리스트\n",
    "new_df = pd.DataFrame(columns=columns)\n",
    "\n",
    "start_time = time.time()\n",
    "for i in range(len(df)):\n",
    "    if df.loc[i, 'mask_idx'] != -1 :\n",
    "        # 새로운 행 추가 - append() 메서드 사용\n",
    "        new_data= pd.DataFrame({'new_text': [df.loc[i, 'text'].replace('[MASK]', str(df.loc[i, 'answer0'])),\n",
    "                                               df.loc[i, 'text'].replace('[MASK]', str(df.loc[i, 'answer1']))],\n",
    "                    'mask_idx': [df.loc[i, 'mask_idx'],\n",
    "                                 df.loc[i, 'mask_idx']],\n",
    "                     'score': [df.loc[i, 'score0'],\n",
    "                               df.loc[i, 'score1']]})\n",
    "        new_df = pd.concat([new_df, new_data])\n",
    "    else:\n",
    "        data = pd.DataFrame({'new_text': [df.loc[i, 'text']],\n",
    "                    'mask_idx': [-1],\n",
    "                     'score': [1]})\n",
    "        new_df = pd.concat([new_df, data])\n",
    "    if i%100000 == 0:\n",
    "        end_time = time.time()\n",
    "        execution_time = end_time - start_time\n",
    "        print(f\"Execution time: {execution_time} seconds for {i} rows\")\n",
    "new_df"
   ],
   "metadata": {
    "collapsed": false,
    "ExecuteTime": {
     "start_time": "2024-01-09T02:09:49.566181Z",
     "end_time": "2024-01-09T02:09:49.568167Z"
    }
   }
  },
  {
   "cell_type": "code",
   "execution_count": null,
   "outputs": [],
   "source": [
    "# 데이터셋 저장\n",
    "new_df.to_csv('dataset_1m.csv', index=False)"
   ],
   "metadata": {
    "collapsed": false
   }
  },
  {
   "cell_type": "markdown",
   "source": [
    "# 2번 set"
   ],
   "metadata": {
    "collapsed": false
   }
  },
  {
   "cell_type": "code",
   "execution_count": 3,
   "outputs": [
    {
     "data": {
      "text/plain": "        mask_idx                                               text    score0  \\\n0              3  and drooping of [MASK] right eyelid for 15 day...  0.954090   \n1              3  patient did not [MASK] significant headache, v...  0.265444   \n2              1  Diagnosis [MASK] Treatment: A neuro-ophthalmol...  0.175667   \n3              4  a complete palpebral ptosis [MASK] exotropy in...  0.216419   \n4              1  and [MASK] severe limitation of supraductions,...  0.269346   \n...          ...                                                ...       ...   \n417708         7  developed a recurrence. Instructions: No speci...  0.825241   \n417709         0  [MASK] patient at the time of discharge. Follo...  0.613106   \n417710         0  [MASK] was not scheduled for any follow-up app...  0.759907   \n417711         6  patient was advised to consult his [MASK] care...  0.982037   \n417712         2  case of [MASK] complications. Signed by [REDAC...  0.245869   \n\n        answer0    score1   answer1    score2 answer2    score3    answer3  \\\n0           the  0.013937       his  0.005939       a  0.005516        her   \n1          have  0.232882    report  0.209363    show  0.087093       feel   \n2           and  0.088278         .  0.078149       :  0.058106   received   \n3            or  0.202470      with  0.111909     and  0.080687          .   \n4             :  0.106502      with  0.047375       .  0.044775         to   \n...         ...       ...       ...       ...     ...       ...        ...   \n417708     were  0.057743       was  0.027482   being  0.025993          .   \n417709        .  0.039369         :  0.010836     the  0.010803          ,   \n417710        .  0.014353         :  0.006382       ,  0.006075          。   \n417711  primary  0.003331    health  0.000982    next  0.000766      third   \n417712      any  0.208197  hardware  0.064930      no  0.046783  immediate   \n\n          score4   answer4  \n0       0.004411      your  \n1       0.017529  describe  \n2       0.045106       the  \n3       0.042019         :  \n4       0.035465         -  \n...          ...       ...  \n417708  0.016457         :  \n417709  0.010693         。  \n417710  0.003577         ;  \n417711  0.000681     first  \n417712  0.043660     other  \n\n[417713 rows x 12 columns]",
      "text/html": "<div>\n<style scoped>\n    .dataframe tbody tr th:only-of-type {\n        vertical-align: middle;\n    }\n\n    .dataframe tbody tr th {\n        vertical-align: top;\n    }\n\n    .dataframe thead th {\n        text-align: right;\n    }\n</style>\n<table border=\"1\" class=\"dataframe\">\n  <thead>\n    <tr style=\"text-align: right;\">\n      <th></th>\n      <th>mask_idx</th>\n      <th>text</th>\n      <th>score0</th>\n      <th>answer0</th>\n      <th>score1</th>\n      <th>answer1</th>\n      <th>score2</th>\n      <th>answer2</th>\n      <th>score3</th>\n      <th>answer3</th>\n      <th>score4</th>\n      <th>answer4</th>\n    </tr>\n  </thead>\n  <tbody>\n    <tr>\n      <th>0</th>\n      <td>3</td>\n      <td>and drooping of [MASK] right eyelid for 15 day...</td>\n      <td>0.954090</td>\n      <td>the</td>\n      <td>0.013937</td>\n      <td>his</td>\n      <td>0.005939</td>\n      <td>a</td>\n      <td>0.005516</td>\n      <td>her</td>\n      <td>0.004411</td>\n      <td>your</td>\n    </tr>\n    <tr>\n      <th>1</th>\n      <td>3</td>\n      <td>patient did not [MASK] significant headache, v...</td>\n      <td>0.265444</td>\n      <td>have</td>\n      <td>0.232882</td>\n      <td>report</td>\n      <td>0.209363</td>\n      <td>show</td>\n      <td>0.087093</td>\n      <td>feel</td>\n      <td>0.017529</td>\n      <td>describe</td>\n    </tr>\n    <tr>\n      <th>2</th>\n      <td>1</td>\n      <td>Diagnosis [MASK] Treatment: A neuro-ophthalmol...</td>\n      <td>0.175667</td>\n      <td>and</td>\n      <td>0.088278</td>\n      <td>.</td>\n      <td>0.078149</td>\n      <td>:</td>\n      <td>0.058106</td>\n      <td>received</td>\n      <td>0.045106</td>\n      <td>the</td>\n    </tr>\n    <tr>\n      <th>3</th>\n      <td>4</td>\n      <td>a complete palpebral ptosis [MASK] exotropy in...</td>\n      <td>0.216419</td>\n      <td>or</td>\n      <td>0.202470</td>\n      <td>with</td>\n      <td>0.111909</td>\n      <td>and</td>\n      <td>0.080687</td>\n      <td>.</td>\n      <td>0.042019</td>\n      <td>:</td>\n    </tr>\n    <tr>\n      <th>4</th>\n      <td>1</td>\n      <td>and [MASK] severe limitation of supraductions,...</td>\n      <td>0.269346</td>\n      <td>:</td>\n      <td>0.106502</td>\n      <td>with</td>\n      <td>0.047375</td>\n      <td>.</td>\n      <td>0.044775</td>\n      <td>to</td>\n      <td>0.035465</td>\n      <td>-</td>\n    </tr>\n    <tr>\n      <th>...</th>\n      <td>...</td>\n      <td>...</td>\n      <td>...</td>\n      <td>...</td>\n      <td>...</td>\n      <td>...</td>\n      <td>...</td>\n      <td>...</td>\n      <td>...</td>\n      <td>...</td>\n      <td>...</td>\n      <td>...</td>\n    </tr>\n    <tr>\n      <th>417708</th>\n      <td>7</td>\n      <td>developed a recurrence. Instructions: No speci...</td>\n      <td>0.825241</td>\n      <td>were</td>\n      <td>0.057743</td>\n      <td>was</td>\n      <td>0.027482</td>\n      <td>being</td>\n      <td>0.025993</td>\n      <td>.</td>\n      <td>0.016457</td>\n      <td>:</td>\n    </tr>\n    <tr>\n      <th>417709</th>\n      <td>0</td>\n      <td>[MASK] patient at the time of discharge. Follo...</td>\n      <td>0.613106</td>\n      <td>.</td>\n      <td>0.039369</td>\n      <td>:</td>\n      <td>0.010836</td>\n      <td>the</td>\n      <td>0.010803</td>\n      <td>,</td>\n      <td>0.010693</td>\n      <td>。</td>\n    </tr>\n    <tr>\n      <th>417710</th>\n      <td>0</td>\n      <td>[MASK] was not scheduled for any follow-up app...</td>\n      <td>0.759907</td>\n      <td>.</td>\n      <td>0.014353</td>\n      <td>:</td>\n      <td>0.006382</td>\n      <td>,</td>\n      <td>0.006075</td>\n      <td>。</td>\n      <td>0.003577</td>\n      <td>;</td>\n    </tr>\n    <tr>\n      <th>417711</th>\n      <td>6</td>\n      <td>patient was advised to consult his [MASK] care...</td>\n      <td>0.982037</td>\n      <td>primary</td>\n      <td>0.003331</td>\n      <td>health</td>\n      <td>0.000982</td>\n      <td>next</td>\n      <td>0.000766</td>\n      <td>third</td>\n      <td>0.000681</td>\n      <td>first</td>\n    </tr>\n    <tr>\n      <th>417712</th>\n      <td>2</td>\n      <td>case of [MASK] complications. Signed by [REDAC...</td>\n      <td>0.245869</td>\n      <td>any</td>\n      <td>0.208197</td>\n      <td>hardware</td>\n      <td>0.064930</td>\n      <td>no</td>\n      <td>0.046783</td>\n      <td>immediate</td>\n      <td>0.043660</td>\n      <td>other</td>\n    </tr>\n  </tbody>\n</table>\n<p>417713 rows × 12 columns</p>\n</div>"
     },
     "execution_count": 3,
     "metadata": {},
     "output_type": "execute_result"
    }
   ],
   "source": [
    "import pandas as pd\n",
    "import time\n",
    "df = pd.read_csv('./ds/datasets_by_teacher_4.4m.csv')\n",
    "df"
   ],
   "metadata": {
    "collapsed": false,
    "ExecuteTime": {
     "start_time": "2024-01-13T00:10:19.276208Z",
     "end_time": "2024-01-13T00:10:19.994944Z"
    }
   }
  },
  {
   "cell_type": "code",
   "execution_count": 4,
   "outputs": [
    {
     "name": "stdout",
     "output_type": "stream",
     "text": [
      "Execution time: 0.00019407272338867188 seconds for 0 rows\n",
      "Execution time: 29.54005002975464 seconds for 50000 rows\n",
      "Execution time: 128.19266510009766 seconds for 100000 rows\n",
      "Execution time: 312.4938871860504 seconds for 150000 rows\n",
      "Execution time: 581.35422706604 seconds for 200000 rows\n",
      "Execution time: 613.023521900177 seconds for 250000 rows\n",
      "Execution time: 716.5208170413971 seconds for 300000 rows\n",
      "Execution time: 907.316260099411 seconds for 350000 rows\n",
      "Execution time: 1175.179306268692 seconds for 400000 rows\n"
     ]
    }
   ],
   "source": [
    "columns = ['new_text', 'mask_idx', 'score']  # 열 이름 리스트\n",
    "new_df2 = pd.DataFrame(columns=columns)\n",
    "l = [200000]\n",
    "start_time = time.time()\n",
    "\n",
    "for i in range(len(df)):\n",
    "    if i%50000 == 0:\n",
    "        end_time = time.time()\n",
    "        execution_time = end_time - start_time\n",
    "        print(f\"Execution time: {execution_time} seconds for {i} rows\")\n",
    "        if i in l:\n",
    "            file = 'dataset_4.2m.csv'\n",
    "            new_df2.to_csv(file, index=False)\n",
    "            columns = ['new_text', 'mask_idx', 'score']  # 열 이름 리스트\n",
    "            new_df2 = pd.DataFrame(columns=columns)\n",
    "    if df.loc[i, 'mask_idx'] != -1 :\n",
    "        # 새로운 행 추가 - append() 메서드 사용\n",
    "        new_data= pd.DataFrame({'new_text': [df.loc[i, 'text'].replace('[MASK]', str(df.loc[i, 'answer0'])),\n",
    "                                               df.loc[i, 'text'].replace('[MASK]', str(df.loc[i, 'answer1']))],\n",
    "                    'mask_idx': [df.loc[i, 'mask_idx'],\n",
    "                                 df.loc[i, 'mask_idx']],\n",
    "                     'score': [df.loc[i, 'score0'],\n",
    "                               df.loc[i, 'score1']]})\n",
    "        new_df2 = pd.concat([new_df2, new_data])\n",
    "    else:\n",
    "        data = pd.DataFrame({'new_text': [df.loc[i, 'text']],\n",
    "                    'mask_idx': [-1],\n",
    "                     'score': [1]})\n",
    "        new_df2 = pd.concat([new_df2, data])\n",
    "new_df2\n",
    "# 데이터셋 저장\n",
    "new_df2.to_csv('dataset_4.4m.csv', index=False)"
   ],
   "metadata": {
    "collapsed": false,
    "ExecuteTime": {
     "start_time": "2024-01-13T00:11:39.842530Z",
     "end_time": "2024-01-13T00:33:08.460357Z"
    }
   }
  },
  {
   "cell_type": "markdown",
   "source": [
    "# 3번 셋"
   ],
   "metadata": {
    "collapsed": false
   }
  },
  {
   "cell_type": "code",
   "execution_count": null,
   "outputs": [],
   "source": [
    "df = pd.read_csv('datasets_by_teacher_3m.csv')"
   ],
   "metadata": {
    "collapsed": false
   }
  },
  {
   "cell_type": "code",
   "execution_count": null,
   "outputs": [],
   "source": [
    "\n",
    "columns = ['new_text', 'mask_idx', 'score']  # 열 이름 리스트\n",
    "new_df3 = pd.DataFrame(columns=columns)\n",
    "\n",
    "start_time = time.time()\n",
    "for i in range(len(df)):\n",
    "    if df.loc[i, 'mask_idx'] != -1 :\n",
    "        # 새로운 행 추가 - append() 메서드 사용\n",
    "        new_data= pd.DataFrame({'new_text': [df.loc[i, 'text'].replace('[MASK]', str(df.loc[i, 'answer0'])),\n",
    "                                               df.loc[i, 'text'].replace('[MASK]', str(df.loc[i, 'answer1']))],\n",
    "                    'mask_idx': [df.loc[i, 'mask_idx'],\n",
    "                                 df.loc[i, 'mask_idx']],\n",
    "                     'score': [df.loc[i, 'score0'],\n",
    "                               df.loc[i, 'score1']]})\n",
    "        new_df3 = pd.concat([new_df3, new_data])\n",
    "    else:\n",
    "        data = pd.DataFrame({'new_text': [df.loc[i, 'text']],\n",
    "                    'mask_idx': [-1],\n",
    "                     'score': [1]})\n",
    "        new_df3 = pd.concat([new_df3, data])\n",
    "new_df3\n",
    "# 데이터셋 저장\n",
    "new_df3.to_csv('dataset_3m.csv', index=False)"
   ],
   "metadata": {
    "collapsed": false
   }
  },
  {
   "cell_type": "markdown",
   "source": [
    "# 4번 set"
   ],
   "metadata": {
    "collapsed": false
   }
  },
  {
   "cell_type": "code",
   "execution_count": null,
   "outputs": [],
   "source": [
    "df = pd.read_csv('datasets_by_teacher_4m.csv')"
   ],
   "metadata": {
    "collapsed": false
   }
  },
  {
   "cell_type": "code",
   "execution_count": null,
   "outputs": [],
   "source": [
    "\n",
    "columns = ['new_text', 'mask_idx', 'score']  # 열 이름 리스트\n",
    "new_df4 = pd.DataFrame(columns=columns)\n",
    "\n",
    "start_time = time.time()\n",
    "for i in range(len(df)):\n",
    "    if df.loc[i, 'mask_idx'] != -1 :\n",
    "        # 새로운 행 추가 - append() 메서드 사용\n",
    "        new_data= pd.DataFrame({'new_text': [df.loc[i, 'text'].replace('[MASK]', str(df.loc[i, 'answer0'])),\n",
    "                                               df.loc[i, 'text'].replace('[MASK]', str(df.loc[i, 'answer1']))],\n",
    "                    'mask_idx': [df.loc[i, 'mask_idx'],\n",
    "                                 df.loc[i, 'mask_idx']],\n",
    "                     'score': [df.loc[i, 'score0'],\n",
    "                               df.loc[i, 'score1']]})\n",
    "        new_df4 = pd.concat([new_df4, new_data])\n",
    "    else:\n",
    "        data = pd.DataFrame({'new_text': [df.loc[i, 'text']],\n",
    "                    'mask_idx': [-1],\n",
    "                     'score': [1]})\n",
    "        new_df4 = pd.concat([new_df4, data])\n",
    "new_df4\n",
    "# 데이터셋 저장\n",
    "new_df4.to_csv('dataset_4m.csv', index=False)"
   ],
   "metadata": {
    "collapsed": false
   }
  }
 ],
 "metadata": {
  "kernelspec": {
   "display_name": "Python 3",
   "language": "python",
   "name": "python3"
  },
  "language_info": {
   "codemirror_mode": {
    "name": "ipython",
    "version": 2
   },
   "file_extension": ".py",
   "mimetype": "text/x-python",
   "name": "python",
   "nbconvert_exporter": "python",
   "pygments_lexer": "ipython2",
   "version": "2.7.6"
  }
 },
 "nbformat": 4,
 "nbformat_minor": 0
}
