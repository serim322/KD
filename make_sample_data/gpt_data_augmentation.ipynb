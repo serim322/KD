{
 "cells": [
  {
   "cell_type": "code",
   "execution_count": 1,
   "outputs": [],
   "source": [
    "import json\n",
    "import pandas as pd"
   ],
   "metadata": {
    "collapsed": false,
    "ExecuteTime": {
     "start_time": "2024-02-13T18:36:53.162959Z",
     "end_time": "2024-02-13T18:36:55.550460Z"
    }
   }
  },
  {
   "cell_type": "code",
   "execution_count": 3,
   "metadata": {
    "collapsed": true,
    "ExecuteTime": {
     "start_time": "2024-02-09T23:41:32.762813Z",
     "end_time": "2024-02-09T23:41:36.976814Z"
    }
   },
   "outputs": [
    {
     "name": "stderr",
     "output_type": "stream",
     "text": [
      "Found cached dataset csv (/Users/serimkim/.cache/huggingface/datasets/starmpcc___csv/starmpcc--Asclepius-Synthetic-Clinical-Notes-a11a728105d5eede/0.0.0/6954658bab30a358235fa864b05cf819af0e179325c740e4bc853bcc7ec513e1)\n"
     ]
    },
    {
     "data": {
      "text/plain": "  0%|          | 0/1 [00:00<?, ?it/s]",
      "application/vnd.jupyter.widget-view+json": {
       "version_major": 2,
       "version_minor": 0,
       "model_id": "6c4aa3a6a1b4471ab3f0983357002257"
      }
     },
     "metadata": {},
     "output_type": "display_data"
    }
   ],
   "source": [
    "from datasets import load_dataset\n",
    "\n",
    "# 데이터셋 불러오기\n",
    "raw_datasets = load_dataset('starmpcc/Asclepius-Synthetic-Clinical-Notes', 'train')\n",
    "raw_datasets\n",
    "\n",
    "# 판다스 데이터프레임으로 변환\n",
    "dataset = pd.DataFrame(raw_datasets['train'].to_pandas())\n",
    "dataset\n",
    "\n",
    "# 추가 컬럼 생성\n",
    "dataset['korean'] = \"\"\n",
    "dataset['mixed'] = \"\"\n",
    "dataset['response'] = \"\""
   ]
  },
  {
   "cell_type": "code",
   "execution_count": 4,
   "outputs": [],
   "source": [
    "# prompt에 넘겨줄 예제 불러오기\n",
    "\n",
    "notes = pd.read_excel('notes.xlsx')\n",
    "samples = notes[:50]"
   ],
   "metadata": {
    "collapsed": false,
    "ExecuteTime": {
     "start_time": "2024-02-09T23:41:39.113157Z",
     "end_time": "2024-02-09T23:41:39.354863Z"
    }
   }
  },
  {
   "cell_type": "code",
   "execution_count": 5,
   "outputs": [],
   "source": [
    "# api 호출 함수 정의\n",
    "\n",
    "from openai import OpenAI\n",
    "\n",
    "client = OpenAI(\n",
    "    # defaults to os.environ.get(\"OPENAI_API_KEY\")\n",
    "    api_key=\"\",\n",
    ")\n",
    "def gpt_response(input_text):\n",
    "    prompt = make_prompt(input_text)\n",
    "\n",
    "    # OpenAI API 호출\n",
    "    response = client.chat.completions.create(\n",
    "        model=\"gpt-3.5-turbo\",\n",
    "        messages=[\n",
    "            {\"role\": \"system\", \"content\": \"You are a translator from English to a mixed text of English and Korean.\"},\n",
    "            {\"role\": \"user\", \"content\": prompt}\n",
    "        ]\n",
    "    )\n",
    "    answer = response.choices[0].message.content\n",
    "    return answer"
   ],
   "metadata": {
    "collapsed": false,
    "ExecuteTime": {
     "start_time": "2024-02-09T23:41:40.909450Z",
     "end_time": "2024-02-09T23:41:41.151796Z"
    }
   }
  },
  {
   "cell_type": "code",
   "execution_count": 6,
   "outputs": [],
   "source": [
    "# prompt로 넘겨줄 예제 랜덤 샘플링하는 함수 정의\n",
    "\n",
    "import random\n",
    "\n",
    "def make_prompt(input_text):\n",
    "    # 0부터 49까지의 숫자 리스트 생성\n",
    "    numbers = list(range(50))\n",
    "\n",
    "    # 리스트에서 3개의 랜덤한 숫자 선택\n",
    "    random_numbers = random.sample(numbers, 3)\n",
    "\n",
    "    prompt = \"\"\"For the given ‘english’ text, generate ‘korean’ and ‘mixed’ in json format.\n",
    "‘Korean’ is a translation of ‘english’ into Korean, and ‘mixed’ is a translation of English and Korean mixed together.\n",
    "<sample1> ~ <sample3> is a example of creating ‘korean’ and ‘mixed’ from ‘english’.\n",
    "\"\"\"\n",
    "\n",
    "    for i in [1,2,3]:\n",
    "        prompt += f\"\\n\\n<sample{i}>\\nenglish: {samples['snippet'][i]}\\n\"\n",
    "        prompt += f\"{{\\\"korean\\\":\\\"{samples['korean'][i]}\\\", \\\"mixed\\\": \\\"{samples['mixed'][i]}\\\"}}\"\n",
    "\n",
    "    prompt += \"\\n\\nAs in the examples above, write ‘korean’ and ‘mixed’ for ‘English’ below. please just return json.\\n\\n\"\n",
    "\n",
    "    prompt += input_text\n",
    "\n",
    "    return prompt"
   ],
   "metadata": {
    "collapsed": false,
    "ExecuteTime": {
     "start_time": "2024-02-09T23:41:43.077065Z",
     "end_time": "2024-02-09T23:41:43.080183Z"
    }
   }
  },
  {
   "cell_type": "code",
   "execution_count": 9,
   "outputs": [
    {
     "name": "stdout",
     "output_type": "stream",
     "text": [
      "450\n"
     ]
    },
    {
     "name": "stderr",
     "output_type": "stream",
     "text": [
      "/var/folders/16/llg4mhsx5yvgfmnhmknw_l8w0000gn/T/ipykernel_9343/4014350804.py:10: SettingWithCopyWarning: \n",
      "A value is trying to be set on a copy of a slice from a DataFrame\n",
      "\n",
      "See the caveats in the documentation: https://pandas.pydata.org/pandas-docs/stable/user_guide/indexing.html#returning-a-view-versus-a-copy\n",
      "  dataset['korean'][i] = response.get('korean', 'Error: Korean data not found')\n",
      "/var/folders/16/llg4mhsx5yvgfmnhmknw_l8w0000gn/T/ipykernel_9343/4014350804.py:11: SettingWithCopyWarning: \n",
      "A value is trying to be set on a copy of a slice from a DataFrame\n",
      "\n",
      "See the caveats in the documentation: https://pandas.pydata.org/pandas-docs/stable/user_guide/indexing.html#returning-a-view-versus-a-copy\n",
      "  dataset['mixed'][i] = response.get('mixed', 'Error: Mixed data not found')\n"
     ]
    },
    {
     "name": "stdout",
     "output_type": "stream",
     "text": [
      "451\n"
     ]
    },
    {
     "name": "stderr",
     "output_type": "stream",
     "text": [
      "/var/folders/16/llg4mhsx5yvgfmnhmknw_l8w0000gn/T/ipykernel_9343/4014350804.py:10: SettingWithCopyWarning: \n",
      "A value is trying to be set on a copy of a slice from a DataFrame\n",
      "\n",
      "See the caveats in the documentation: https://pandas.pydata.org/pandas-docs/stable/user_guide/indexing.html#returning-a-view-versus-a-copy\n",
      "  dataset['korean'][i] = response.get('korean', 'Error: Korean data not found')\n",
      "/var/folders/16/llg4mhsx5yvgfmnhmknw_l8w0000gn/T/ipykernel_9343/4014350804.py:11: SettingWithCopyWarning: \n",
      "A value is trying to be set on a copy of a slice from a DataFrame\n",
      "\n",
      "See the caveats in the documentation: https://pandas.pydata.org/pandas-docs/stable/user_guide/indexing.html#returning-a-view-versus-a-copy\n",
      "  dataset['mixed'][i] = response.get('mixed', 'Error: Mixed data not found')\n"
     ]
    },
    {
     "name": "stdout",
     "output_type": "stream",
     "text": [
      "452\n"
     ]
    },
    {
     "name": "stderr",
     "output_type": "stream",
     "text": [
      "/var/folders/16/llg4mhsx5yvgfmnhmknw_l8w0000gn/T/ipykernel_9343/4014350804.py:10: SettingWithCopyWarning: \n",
      "A value is trying to be set on a copy of a slice from a DataFrame\n",
      "\n",
      "See the caveats in the documentation: https://pandas.pydata.org/pandas-docs/stable/user_guide/indexing.html#returning-a-view-versus-a-copy\n",
      "  dataset['korean'][i] = response.get('korean', 'Error: Korean data not found')\n",
      "/var/folders/16/llg4mhsx5yvgfmnhmknw_l8w0000gn/T/ipykernel_9343/4014350804.py:11: SettingWithCopyWarning: \n",
      "A value is trying to be set on a copy of a slice from a DataFrame\n",
      "\n",
      "See the caveats in the documentation: https://pandas.pydata.org/pandas-docs/stable/user_guide/indexing.html#returning-a-view-versus-a-copy\n",
      "  dataset['mixed'][i] = response.get('mixed', 'Error: Mixed data not found')\n"
     ]
    },
    {
     "name": "stdout",
     "output_type": "stream",
     "text": [
      "453\n"
     ]
    },
    {
     "name": "stderr",
     "output_type": "stream",
     "text": [
      "/var/folders/16/llg4mhsx5yvgfmnhmknw_l8w0000gn/T/ipykernel_9343/4014350804.py:10: SettingWithCopyWarning: \n",
      "A value is trying to be set on a copy of a slice from a DataFrame\n",
      "\n",
      "See the caveats in the documentation: https://pandas.pydata.org/pandas-docs/stable/user_guide/indexing.html#returning-a-view-versus-a-copy\n",
      "  dataset['korean'][i] = response.get('korean', 'Error: Korean data not found')\n",
      "/var/folders/16/llg4mhsx5yvgfmnhmknw_l8w0000gn/T/ipykernel_9343/4014350804.py:11: SettingWithCopyWarning: \n",
      "A value is trying to be set on a copy of a slice from a DataFrame\n",
      "\n",
      "See the caveats in the documentation: https://pandas.pydata.org/pandas-docs/stable/user_guide/indexing.html#returning-a-view-versus-a-copy\n",
      "  dataset['mixed'][i] = response.get('mixed', 'Error: Mixed data not found')\n"
     ]
    },
    {
     "name": "stdout",
     "output_type": "stream",
     "text": [
      "454\n"
     ]
    },
    {
     "name": "stderr",
     "output_type": "stream",
     "text": [
      "/var/folders/16/llg4mhsx5yvgfmnhmknw_l8w0000gn/T/ipykernel_9343/4014350804.py:10: SettingWithCopyWarning: \n",
      "A value is trying to be set on a copy of a slice from a DataFrame\n",
      "\n",
      "See the caveats in the documentation: https://pandas.pydata.org/pandas-docs/stable/user_guide/indexing.html#returning-a-view-versus-a-copy\n",
      "  dataset['korean'][i] = response.get('korean', 'Error: Korean data not found')\n",
      "/var/folders/16/llg4mhsx5yvgfmnhmknw_l8w0000gn/T/ipykernel_9343/4014350804.py:11: SettingWithCopyWarning: \n",
      "A value is trying to be set on a copy of a slice from a DataFrame\n",
      "\n",
      "See the caveats in the documentation: https://pandas.pydata.org/pandas-docs/stable/user_guide/indexing.html#returning-a-view-versus-a-copy\n",
      "  dataset['mixed'][i] = response.get('mixed', 'Error: Mixed data not found')\n"
     ]
    },
    {
     "name": "stdout",
     "output_type": "stream",
     "text": [
      "455\n"
     ]
    },
    {
     "name": "stderr",
     "output_type": "stream",
     "text": [
      "/var/folders/16/llg4mhsx5yvgfmnhmknw_l8w0000gn/T/ipykernel_9343/4014350804.py:10: SettingWithCopyWarning: \n",
      "A value is trying to be set on a copy of a slice from a DataFrame\n",
      "\n",
      "See the caveats in the documentation: https://pandas.pydata.org/pandas-docs/stable/user_guide/indexing.html#returning-a-view-versus-a-copy\n",
      "  dataset['korean'][i] = response.get('korean', 'Error: Korean data not found')\n",
      "/var/folders/16/llg4mhsx5yvgfmnhmknw_l8w0000gn/T/ipykernel_9343/4014350804.py:11: SettingWithCopyWarning: \n",
      "A value is trying to be set on a copy of a slice from a DataFrame\n",
      "\n",
      "See the caveats in the documentation: https://pandas.pydata.org/pandas-docs/stable/user_guide/indexing.html#returning-a-view-versus-a-copy\n",
      "  dataset['mixed'][i] = response.get('mixed', 'Error: Mixed data not found')\n"
     ]
    },
    {
     "name": "stdout",
     "output_type": "stream",
     "text": [
      "456\n",
      "Error decoding JSON for index 456: Unterminated string starting at: line 1 column 2067 (char 2066)\n",
      "457\n"
     ]
    },
    {
     "name": "stderr",
     "output_type": "stream",
     "text": [
      "/var/folders/16/llg4mhsx5yvgfmnhmknw_l8w0000gn/T/ipykernel_9343/4014350804.py:10: SettingWithCopyWarning: \n",
      "A value is trying to be set on a copy of a slice from a DataFrame\n",
      "\n",
      "See the caveats in the documentation: https://pandas.pydata.org/pandas-docs/stable/user_guide/indexing.html#returning-a-view-versus-a-copy\n",
      "  dataset['korean'][i] = response.get('korean', 'Error: Korean data not found')\n",
      "/var/folders/16/llg4mhsx5yvgfmnhmknw_l8w0000gn/T/ipykernel_9343/4014350804.py:11: SettingWithCopyWarning: \n",
      "A value is trying to be set on a copy of a slice from a DataFrame\n",
      "\n",
      "See the caveats in the documentation: https://pandas.pydata.org/pandas-docs/stable/user_guide/indexing.html#returning-a-view-versus-a-copy\n",
      "  dataset['mixed'][i] = response.get('mixed', 'Error: Mixed data not found')\n"
     ]
    },
    {
     "name": "stdout",
     "output_type": "stream",
     "text": [
      "458\n",
      "Error decoding JSON for index 458: Expecting ',' delimiter: line 1 column 469 (char 468)\n",
      "459\n"
     ]
    },
    {
     "name": "stderr",
     "output_type": "stream",
     "text": [
      "/var/folders/16/llg4mhsx5yvgfmnhmknw_l8w0000gn/T/ipykernel_9343/4014350804.py:10: SettingWithCopyWarning: \n",
      "A value is trying to be set on a copy of a slice from a DataFrame\n",
      "\n",
      "See the caveats in the documentation: https://pandas.pydata.org/pandas-docs/stable/user_guide/indexing.html#returning-a-view-versus-a-copy\n",
      "  dataset['korean'][i] = response.get('korean', 'Error: Korean data not found')\n",
      "/var/folders/16/llg4mhsx5yvgfmnhmknw_l8w0000gn/T/ipykernel_9343/4014350804.py:11: SettingWithCopyWarning: \n",
      "A value is trying to be set on a copy of a slice from a DataFrame\n",
      "\n",
      "See the caveats in the documentation: https://pandas.pydata.org/pandas-docs/stable/user_guide/indexing.html#returning-a-view-versus-a-copy\n",
      "  dataset['mixed'][i] = response.get('mixed', 'Error: Mixed data not found')\n"
     ]
    },
    {
     "name": "stdout",
     "output_type": "stream",
     "text": [
      "460\n"
     ]
    },
    {
     "name": "stderr",
     "output_type": "stream",
     "text": [
      "/var/folders/16/llg4mhsx5yvgfmnhmknw_l8w0000gn/T/ipykernel_9343/4014350804.py:10: SettingWithCopyWarning: \n",
      "A value is trying to be set on a copy of a slice from a DataFrame\n",
      "\n",
      "See the caveats in the documentation: https://pandas.pydata.org/pandas-docs/stable/user_guide/indexing.html#returning-a-view-versus-a-copy\n",
      "  dataset['korean'][i] = response.get('korean', 'Error: Korean data not found')\n",
      "/var/folders/16/llg4mhsx5yvgfmnhmknw_l8w0000gn/T/ipykernel_9343/4014350804.py:11: SettingWithCopyWarning: \n",
      "A value is trying to be set on a copy of a slice from a DataFrame\n",
      "\n",
      "See the caveats in the documentation: https://pandas.pydata.org/pandas-docs/stable/user_guide/indexing.html#returning-a-view-versus-a-copy\n",
      "  dataset['mixed'][i] = response.get('mixed', 'Error: Mixed data not found')\n"
     ]
    },
    {
     "name": "stdout",
     "output_type": "stream",
     "text": [
      "461\n"
     ]
    },
    {
     "name": "stderr",
     "output_type": "stream",
     "text": [
      "/var/folders/16/llg4mhsx5yvgfmnhmknw_l8w0000gn/T/ipykernel_9343/4014350804.py:10: SettingWithCopyWarning: \n",
      "A value is trying to be set on a copy of a slice from a DataFrame\n",
      "\n",
      "See the caveats in the documentation: https://pandas.pydata.org/pandas-docs/stable/user_guide/indexing.html#returning-a-view-versus-a-copy\n",
      "  dataset['korean'][i] = response.get('korean', 'Error: Korean data not found')\n",
      "/var/folders/16/llg4mhsx5yvgfmnhmknw_l8w0000gn/T/ipykernel_9343/4014350804.py:11: SettingWithCopyWarning: \n",
      "A value is trying to be set on a copy of a slice from a DataFrame\n",
      "\n",
      "See the caveats in the documentation: https://pandas.pydata.org/pandas-docs/stable/user_guide/indexing.html#returning-a-view-versus-a-copy\n",
      "  dataset['mixed'][i] = response.get('mixed', 'Error: Mixed data not found')\n"
     ]
    },
    {
     "name": "stdout",
     "output_type": "stream",
     "text": [
      "462\n"
     ]
    },
    {
     "name": "stderr",
     "output_type": "stream",
     "text": [
      "/var/folders/16/llg4mhsx5yvgfmnhmknw_l8w0000gn/T/ipykernel_9343/4014350804.py:10: SettingWithCopyWarning: \n",
      "A value is trying to be set on a copy of a slice from a DataFrame\n",
      "\n",
      "See the caveats in the documentation: https://pandas.pydata.org/pandas-docs/stable/user_guide/indexing.html#returning-a-view-versus-a-copy\n",
      "  dataset['korean'][i] = response.get('korean', 'Error: Korean data not found')\n",
      "/var/folders/16/llg4mhsx5yvgfmnhmknw_l8w0000gn/T/ipykernel_9343/4014350804.py:11: SettingWithCopyWarning: \n",
      "A value is trying to be set on a copy of a slice from a DataFrame\n",
      "\n",
      "See the caveats in the documentation: https://pandas.pydata.org/pandas-docs/stable/user_guide/indexing.html#returning-a-view-versus-a-copy\n",
      "  dataset['mixed'][i] = response.get('mixed', 'Error: Mixed data not found')\n"
     ]
    },
    {
     "name": "stdout",
     "output_type": "stream",
     "text": [
      "463\n"
     ]
    },
    {
     "name": "stderr",
     "output_type": "stream",
     "text": [
      "/var/folders/16/llg4mhsx5yvgfmnhmknw_l8w0000gn/T/ipykernel_9343/4014350804.py:10: SettingWithCopyWarning: \n",
      "A value is trying to be set on a copy of a slice from a DataFrame\n",
      "\n",
      "See the caveats in the documentation: https://pandas.pydata.org/pandas-docs/stable/user_guide/indexing.html#returning-a-view-versus-a-copy\n",
      "  dataset['korean'][i] = response.get('korean', 'Error: Korean data not found')\n",
      "/var/folders/16/llg4mhsx5yvgfmnhmknw_l8w0000gn/T/ipykernel_9343/4014350804.py:11: SettingWithCopyWarning: \n",
      "A value is trying to be set on a copy of a slice from a DataFrame\n",
      "\n",
      "See the caveats in the documentation: https://pandas.pydata.org/pandas-docs/stable/user_guide/indexing.html#returning-a-view-versus-a-copy\n",
      "  dataset['mixed'][i] = response.get('mixed', 'Error: Mixed data not found')\n"
     ]
    },
    {
     "name": "stdout",
     "output_type": "stream",
     "text": [
      "464\n"
     ]
    },
    {
     "name": "stderr",
     "output_type": "stream",
     "text": [
      "/var/folders/16/llg4mhsx5yvgfmnhmknw_l8w0000gn/T/ipykernel_9343/4014350804.py:10: SettingWithCopyWarning: \n",
      "A value is trying to be set on a copy of a slice from a DataFrame\n",
      "\n",
      "See the caveats in the documentation: https://pandas.pydata.org/pandas-docs/stable/user_guide/indexing.html#returning-a-view-versus-a-copy\n",
      "  dataset['korean'][i] = response.get('korean', 'Error: Korean data not found')\n",
      "/var/folders/16/llg4mhsx5yvgfmnhmknw_l8w0000gn/T/ipykernel_9343/4014350804.py:11: SettingWithCopyWarning: \n",
      "A value is trying to be set on a copy of a slice from a DataFrame\n",
      "\n",
      "See the caveats in the documentation: https://pandas.pydata.org/pandas-docs/stable/user_guide/indexing.html#returning-a-view-versus-a-copy\n",
      "  dataset['mixed'][i] = response.get('mixed', 'Error: Mixed data not found')\n"
     ]
    },
    {
     "name": "stdout",
     "output_type": "stream",
     "text": [
      "465\n"
     ]
    },
    {
     "name": "stderr",
     "output_type": "stream",
     "text": [
      "/var/folders/16/llg4mhsx5yvgfmnhmknw_l8w0000gn/T/ipykernel_9343/4014350804.py:10: SettingWithCopyWarning: \n",
      "A value is trying to be set on a copy of a slice from a DataFrame\n",
      "\n",
      "See the caveats in the documentation: https://pandas.pydata.org/pandas-docs/stable/user_guide/indexing.html#returning-a-view-versus-a-copy\n",
      "  dataset['korean'][i] = response.get('korean', 'Error: Korean data not found')\n",
      "/var/folders/16/llg4mhsx5yvgfmnhmknw_l8w0000gn/T/ipykernel_9343/4014350804.py:11: SettingWithCopyWarning: \n",
      "A value is trying to be set on a copy of a slice from a DataFrame\n",
      "\n",
      "See the caveats in the documentation: https://pandas.pydata.org/pandas-docs/stable/user_guide/indexing.html#returning-a-view-versus-a-copy\n",
      "  dataset['mixed'][i] = response.get('mixed', 'Error: Mixed data not found')\n"
     ]
    },
    {
     "name": "stdout",
     "output_type": "stream",
     "text": [
      "466\n"
     ]
    },
    {
     "name": "stderr",
     "output_type": "stream",
     "text": [
      "/var/folders/16/llg4mhsx5yvgfmnhmknw_l8w0000gn/T/ipykernel_9343/4014350804.py:10: SettingWithCopyWarning: \n",
      "A value is trying to be set on a copy of a slice from a DataFrame\n",
      "\n",
      "See the caveats in the documentation: https://pandas.pydata.org/pandas-docs/stable/user_guide/indexing.html#returning-a-view-versus-a-copy\n",
      "  dataset['korean'][i] = response.get('korean', 'Error: Korean data not found')\n",
      "/var/folders/16/llg4mhsx5yvgfmnhmknw_l8w0000gn/T/ipykernel_9343/4014350804.py:11: SettingWithCopyWarning: \n",
      "A value is trying to be set on a copy of a slice from a DataFrame\n",
      "\n",
      "See the caveats in the documentation: https://pandas.pydata.org/pandas-docs/stable/user_guide/indexing.html#returning-a-view-versus-a-copy\n",
      "  dataset['mixed'][i] = response.get('mixed', 'Error: Mixed data not found')\n"
     ]
    },
    {
     "name": "stdout",
     "output_type": "stream",
     "text": [
      "467\n"
     ]
    },
    {
     "name": "stderr",
     "output_type": "stream",
     "text": [
      "/var/folders/16/llg4mhsx5yvgfmnhmknw_l8w0000gn/T/ipykernel_9343/4014350804.py:10: SettingWithCopyWarning: \n",
      "A value is trying to be set on a copy of a slice from a DataFrame\n",
      "\n",
      "See the caveats in the documentation: https://pandas.pydata.org/pandas-docs/stable/user_guide/indexing.html#returning-a-view-versus-a-copy\n",
      "  dataset['korean'][i] = response.get('korean', 'Error: Korean data not found')\n",
      "/var/folders/16/llg4mhsx5yvgfmnhmknw_l8w0000gn/T/ipykernel_9343/4014350804.py:11: SettingWithCopyWarning: \n",
      "A value is trying to be set on a copy of a slice from a DataFrame\n",
      "\n",
      "See the caveats in the documentation: https://pandas.pydata.org/pandas-docs/stable/user_guide/indexing.html#returning-a-view-versus-a-copy\n",
      "  dataset['mixed'][i] = response.get('mixed', 'Error: Mixed data not found')\n"
     ]
    },
    {
     "name": "stdout",
     "output_type": "stream",
     "text": [
      "468\n"
     ]
    },
    {
     "name": "stderr",
     "output_type": "stream",
     "text": [
      "/var/folders/16/llg4mhsx5yvgfmnhmknw_l8w0000gn/T/ipykernel_9343/4014350804.py:10: SettingWithCopyWarning: \n",
      "A value is trying to be set on a copy of a slice from a DataFrame\n",
      "\n",
      "See the caveats in the documentation: https://pandas.pydata.org/pandas-docs/stable/user_guide/indexing.html#returning-a-view-versus-a-copy\n",
      "  dataset['korean'][i] = response.get('korean', 'Error: Korean data not found')\n",
      "/var/folders/16/llg4mhsx5yvgfmnhmknw_l8w0000gn/T/ipykernel_9343/4014350804.py:11: SettingWithCopyWarning: \n",
      "A value is trying to be set on a copy of a slice from a DataFrame\n",
      "\n",
      "See the caveats in the documentation: https://pandas.pydata.org/pandas-docs/stable/user_guide/indexing.html#returning-a-view-versus-a-copy\n",
      "  dataset['mixed'][i] = response.get('mixed', 'Error: Mixed data not found')\n"
     ]
    },
    {
     "name": "stdout",
     "output_type": "stream",
     "text": [
      "469\n"
     ]
    },
    {
     "name": "stderr",
     "output_type": "stream",
     "text": [
      "/var/folders/16/llg4mhsx5yvgfmnhmknw_l8w0000gn/T/ipykernel_9343/4014350804.py:10: SettingWithCopyWarning: \n",
      "A value is trying to be set on a copy of a slice from a DataFrame\n",
      "\n",
      "See the caveats in the documentation: https://pandas.pydata.org/pandas-docs/stable/user_guide/indexing.html#returning-a-view-versus-a-copy\n",
      "  dataset['korean'][i] = response.get('korean', 'Error: Korean data not found')\n",
      "/var/folders/16/llg4mhsx5yvgfmnhmknw_l8w0000gn/T/ipykernel_9343/4014350804.py:11: SettingWithCopyWarning: \n",
      "A value is trying to be set on a copy of a slice from a DataFrame\n",
      "\n",
      "See the caveats in the documentation: https://pandas.pydata.org/pandas-docs/stable/user_guide/indexing.html#returning-a-view-versus-a-copy\n",
      "  dataset['mixed'][i] = response.get('mixed', 'Error: Mixed data not found')\n"
     ]
    },
    {
     "name": "stdout",
     "output_type": "stream",
     "text": [
      "470\n",
      "Error decoding JSON for index 470: Unterminated string starting at: line 1 column 1372 (char 1371)\n",
      "471\n"
     ]
    },
    {
     "name": "stderr",
     "output_type": "stream",
     "text": [
      "/var/folders/16/llg4mhsx5yvgfmnhmknw_l8w0000gn/T/ipykernel_9343/4014350804.py:10: SettingWithCopyWarning: \n",
      "A value is trying to be set on a copy of a slice from a DataFrame\n",
      "\n",
      "See the caveats in the documentation: https://pandas.pydata.org/pandas-docs/stable/user_guide/indexing.html#returning-a-view-versus-a-copy\n",
      "  dataset['korean'][i] = response.get('korean', 'Error: Korean data not found')\n",
      "/var/folders/16/llg4mhsx5yvgfmnhmknw_l8w0000gn/T/ipykernel_9343/4014350804.py:11: SettingWithCopyWarning: \n",
      "A value is trying to be set on a copy of a slice from a DataFrame\n",
      "\n",
      "See the caveats in the documentation: https://pandas.pydata.org/pandas-docs/stable/user_guide/indexing.html#returning-a-view-versus-a-copy\n",
      "  dataset['mixed'][i] = response.get('mixed', 'Error: Mixed data not found')\n"
     ]
    },
    {
     "name": "stdout",
     "output_type": "stream",
     "text": [
      "472\n"
     ]
    },
    {
     "name": "stderr",
     "output_type": "stream",
     "text": [
      "/var/folders/16/llg4mhsx5yvgfmnhmknw_l8w0000gn/T/ipykernel_9343/4014350804.py:10: SettingWithCopyWarning: \n",
      "A value is trying to be set on a copy of a slice from a DataFrame\n",
      "\n",
      "See the caveats in the documentation: https://pandas.pydata.org/pandas-docs/stable/user_guide/indexing.html#returning-a-view-versus-a-copy\n",
      "  dataset['korean'][i] = response.get('korean', 'Error: Korean data not found')\n",
      "/var/folders/16/llg4mhsx5yvgfmnhmknw_l8w0000gn/T/ipykernel_9343/4014350804.py:11: SettingWithCopyWarning: \n",
      "A value is trying to be set on a copy of a slice from a DataFrame\n",
      "\n",
      "See the caveats in the documentation: https://pandas.pydata.org/pandas-docs/stable/user_guide/indexing.html#returning-a-view-versus-a-copy\n",
      "  dataset['mixed'][i] = response.get('mixed', 'Error: Mixed data not found')\n"
     ]
    },
    {
     "name": "stdout",
     "output_type": "stream",
     "text": [
      "473\n"
     ]
    },
    {
     "name": "stderr",
     "output_type": "stream",
     "text": [
      "/var/folders/16/llg4mhsx5yvgfmnhmknw_l8w0000gn/T/ipykernel_9343/4014350804.py:10: SettingWithCopyWarning: \n",
      "A value is trying to be set on a copy of a slice from a DataFrame\n",
      "\n",
      "See the caveats in the documentation: https://pandas.pydata.org/pandas-docs/stable/user_guide/indexing.html#returning-a-view-versus-a-copy\n",
      "  dataset['korean'][i] = response.get('korean', 'Error: Korean data not found')\n",
      "/var/folders/16/llg4mhsx5yvgfmnhmknw_l8w0000gn/T/ipykernel_9343/4014350804.py:11: SettingWithCopyWarning: \n",
      "A value is trying to be set on a copy of a slice from a DataFrame\n",
      "\n",
      "See the caveats in the documentation: https://pandas.pydata.org/pandas-docs/stable/user_guide/indexing.html#returning-a-view-versus-a-copy\n",
      "  dataset['mixed'][i] = response.get('mixed', 'Error: Mixed data not found')\n"
     ]
    },
    {
     "name": "stdout",
     "output_type": "stream",
     "text": [
      "474\n"
     ]
    },
    {
     "name": "stderr",
     "output_type": "stream",
     "text": [
      "/var/folders/16/llg4mhsx5yvgfmnhmknw_l8w0000gn/T/ipykernel_9343/4014350804.py:10: SettingWithCopyWarning: \n",
      "A value is trying to be set on a copy of a slice from a DataFrame\n",
      "\n",
      "See the caveats in the documentation: https://pandas.pydata.org/pandas-docs/stable/user_guide/indexing.html#returning-a-view-versus-a-copy\n",
      "  dataset['korean'][i] = response.get('korean', 'Error: Korean data not found')\n",
      "/var/folders/16/llg4mhsx5yvgfmnhmknw_l8w0000gn/T/ipykernel_9343/4014350804.py:11: SettingWithCopyWarning: \n",
      "A value is trying to be set on a copy of a slice from a DataFrame\n",
      "\n",
      "See the caveats in the documentation: https://pandas.pydata.org/pandas-docs/stable/user_guide/indexing.html#returning-a-view-versus-a-copy\n",
      "  dataset['mixed'][i] = response.get('mixed', 'Error: Mixed data not found')\n"
     ]
    },
    {
     "name": "stdout",
     "output_type": "stream",
     "text": [
      "475\n",
      "Error decoding JSON for index 475: Expecting ',' delimiter: line 1 column 1387 (char 1386)\n",
      "476\n"
     ]
    },
    {
     "name": "stderr",
     "output_type": "stream",
     "text": [
      "/var/folders/16/llg4mhsx5yvgfmnhmknw_l8w0000gn/T/ipykernel_9343/4014350804.py:10: SettingWithCopyWarning: \n",
      "A value is trying to be set on a copy of a slice from a DataFrame\n",
      "\n",
      "See the caveats in the documentation: https://pandas.pydata.org/pandas-docs/stable/user_guide/indexing.html#returning-a-view-versus-a-copy\n",
      "  dataset['korean'][i] = response.get('korean', 'Error: Korean data not found')\n",
      "/var/folders/16/llg4mhsx5yvgfmnhmknw_l8w0000gn/T/ipykernel_9343/4014350804.py:11: SettingWithCopyWarning: \n",
      "A value is trying to be set on a copy of a slice from a DataFrame\n",
      "\n",
      "See the caveats in the documentation: https://pandas.pydata.org/pandas-docs/stable/user_guide/indexing.html#returning-a-view-versus-a-copy\n",
      "  dataset['mixed'][i] = response.get('mixed', 'Error: Mixed data not found')\n"
     ]
    },
    {
     "name": "stdout",
     "output_type": "stream",
     "text": [
      "477\n"
     ]
    },
    {
     "name": "stderr",
     "output_type": "stream",
     "text": [
      "/var/folders/16/llg4mhsx5yvgfmnhmknw_l8w0000gn/T/ipykernel_9343/4014350804.py:10: SettingWithCopyWarning: \n",
      "A value is trying to be set on a copy of a slice from a DataFrame\n",
      "\n",
      "See the caveats in the documentation: https://pandas.pydata.org/pandas-docs/stable/user_guide/indexing.html#returning-a-view-versus-a-copy\n",
      "  dataset['korean'][i] = response.get('korean', 'Error: Korean data not found')\n",
      "/var/folders/16/llg4mhsx5yvgfmnhmknw_l8w0000gn/T/ipykernel_9343/4014350804.py:11: SettingWithCopyWarning: \n",
      "A value is trying to be set on a copy of a slice from a DataFrame\n",
      "\n",
      "See the caveats in the documentation: https://pandas.pydata.org/pandas-docs/stable/user_guide/indexing.html#returning-a-view-versus-a-copy\n",
      "  dataset['mixed'][i] = response.get('mixed', 'Error: Mixed data not found')\n"
     ]
    },
    {
     "name": "stdout",
     "output_type": "stream",
     "text": [
      "478\n"
     ]
    },
    {
     "name": "stderr",
     "output_type": "stream",
     "text": [
      "/var/folders/16/llg4mhsx5yvgfmnhmknw_l8w0000gn/T/ipykernel_9343/4014350804.py:10: SettingWithCopyWarning: \n",
      "A value is trying to be set on a copy of a slice from a DataFrame\n",
      "\n",
      "See the caveats in the documentation: https://pandas.pydata.org/pandas-docs/stable/user_guide/indexing.html#returning-a-view-versus-a-copy\n",
      "  dataset['korean'][i] = response.get('korean', 'Error: Korean data not found')\n",
      "/var/folders/16/llg4mhsx5yvgfmnhmknw_l8w0000gn/T/ipykernel_9343/4014350804.py:11: SettingWithCopyWarning: \n",
      "A value is trying to be set on a copy of a slice from a DataFrame\n",
      "\n",
      "See the caveats in the documentation: https://pandas.pydata.org/pandas-docs/stable/user_guide/indexing.html#returning-a-view-versus-a-copy\n",
      "  dataset['mixed'][i] = response.get('mixed', 'Error: Mixed data not found')\n"
     ]
    },
    {
     "name": "stdout",
     "output_type": "stream",
     "text": [
      "479\n",
      "Error decoding JSON for index 479: Unterminated string starting at: line 1 column 2926 (char 2925)\n",
      "480\n"
     ]
    },
    {
     "name": "stderr",
     "output_type": "stream",
     "text": [
      "/var/folders/16/llg4mhsx5yvgfmnhmknw_l8w0000gn/T/ipykernel_9343/4014350804.py:10: SettingWithCopyWarning: \n",
      "A value is trying to be set on a copy of a slice from a DataFrame\n",
      "\n",
      "See the caveats in the documentation: https://pandas.pydata.org/pandas-docs/stable/user_guide/indexing.html#returning-a-view-versus-a-copy\n",
      "  dataset['korean'][i] = response.get('korean', 'Error: Korean data not found')\n",
      "/var/folders/16/llg4mhsx5yvgfmnhmknw_l8w0000gn/T/ipykernel_9343/4014350804.py:11: SettingWithCopyWarning: \n",
      "A value is trying to be set on a copy of a slice from a DataFrame\n",
      "\n",
      "See the caveats in the documentation: https://pandas.pydata.org/pandas-docs/stable/user_guide/indexing.html#returning-a-view-versus-a-copy\n",
      "  dataset['mixed'][i] = response.get('mixed', 'Error: Mixed data not found')\n"
     ]
    },
    {
     "name": "stdout",
     "output_type": "stream",
     "text": [
      "481\n"
     ]
    },
    {
     "name": "stderr",
     "output_type": "stream",
     "text": [
      "/var/folders/16/llg4mhsx5yvgfmnhmknw_l8w0000gn/T/ipykernel_9343/4014350804.py:10: SettingWithCopyWarning: \n",
      "A value is trying to be set on a copy of a slice from a DataFrame\n",
      "\n",
      "See the caveats in the documentation: https://pandas.pydata.org/pandas-docs/stable/user_guide/indexing.html#returning-a-view-versus-a-copy\n",
      "  dataset['korean'][i] = response.get('korean', 'Error: Korean data not found')\n",
      "/var/folders/16/llg4mhsx5yvgfmnhmknw_l8w0000gn/T/ipykernel_9343/4014350804.py:11: SettingWithCopyWarning: \n",
      "A value is trying to be set on a copy of a slice from a DataFrame\n",
      "\n",
      "See the caveats in the documentation: https://pandas.pydata.org/pandas-docs/stable/user_guide/indexing.html#returning-a-view-versus-a-copy\n",
      "  dataset['mixed'][i] = response.get('mixed', 'Error: Mixed data not found')\n"
     ]
    },
    {
     "name": "stdout",
     "output_type": "stream",
     "text": [
      "482\n"
     ]
    },
    {
     "name": "stderr",
     "output_type": "stream",
     "text": [
      "/var/folders/16/llg4mhsx5yvgfmnhmknw_l8w0000gn/T/ipykernel_9343/4014350804.py:10: SettingWithCopyWarning: \n",
      "A value is trying to be set on a copy of a slice from a DataFrame\n",
      "\n",
      "See the caveats in the documentation: https://pandas.pydata.org/pandas-docs/stable/user_guide/indexing.html#returning-a-view-versus-a-copy\n",
      "  dataset['korean'][i] = response.get('korean', 'Error: Korean data not found')\n",
      "/var/folders/16/llg4mhsx5yvgfmnhmknw_l8w0000gn/T/ipykernel_9343/4014350804.py:11: SettingWithCopyWarning: \n",
      "A value is trying to be set on a copy of a slice from a DataFrame\n",
      "\n",
      "See the caveats in the documentation: https://pandas.pydata.org/pandas-docs/stable/user_guide/indexing.html#returning-a-view-versus-a-copy\n",
      "  dataset['mixed'][i] = response.get('mixed', 'Error: Mixed data not found')\n"
     ]
    },
    {
     "name": "stdout",
     "output_type": "stream",
     "text": [
      "483\n"
     ]
    },
    {
     "name": "stderr",
     "output_type": "stream",
     "text": [
      "/var/folders/16/llg4mhsx5yvgfmnhmknw_l8w0000gn/T/ipykernel_9343/4014350804.py:10: SettingWithCopyWarning: \n",
      "A value is trying to be set on a copy of a slice from a DataFrame\n",
      "\n",
      "See the caveats in the documentation: https://pandas.pydata.org/pandas-docs/stable/user_guide/indexing.html#returning-a-view-versus-a-copy\n",
      "  dataset['korean'][i] = response.get('korean', 'Error: Korean data not found')\n",
      "/var/folders/16/llg4mhsx5yvgfmnhmknw_l8w0000gn/T/ipykernel_9343/4014350804.py:11: SettingWithCopyWarning: \n",
      "A value is trying to be set on a copy of a slice from a DataFrame\n",
      "\n",
      "See the caveats in the documentation: https://pandas.pydata.org/pandas-docs/stable/user_guide/indexing.html#returning-a-view-versus-a-copy\n",
      "  dataset['mixed'][i] = response.get('mixed', 'Error: Mixed data not found')\n"
     ]
    },
    {
     "name": "stdout",
     "output_type": "stream",
     "text": [
      "484\n",
      "Error decoding JSON for index 484: Unterminated string starting at: line 1 column 1264 (char 1263)\n",
      "485\n"
     ]
    },
    {
     "name": "stderr",
     "output_type": "stream",
     "text": [
      "/var/folders/16/llg4mhsx5yvgfmnhmknw_l8w0000gn/T/ipykernel_9343/4014350804.py:10: SettingWithCopyWarning: \n",
      "A value is trying to be set on a copy of a slice from a DataFrame\n",
      "\n",
      "See the caveats in the documentation: https://pandas.pydata.org/pandas-docs/stable/user_guide/indexing.html#returning-a-view-versus-a-copy\n",
      "  dataset['korean'][i] = response.get('korean', 'Error: Korean data not found')\n",
      "/var/folders/16/llg4mhsx5yvgfmnhmknw_l8w0000gn/T/ipykernel_9343/4014350804.py:11: SettingWithCopyWarning: \n",
      "A value is trying to be set on a copy of a slice from a DataFrame\n",
      "\n",
      "See the caveats in the documentation: https://pandas.pydata.org/pandas-docs/stable/user_guide/indexing.html#returning-a-view-versus-a-copy\n",
      "  dataset['mixed'][i] = response.get('mixed', 'Error: Mixed data not found')\n"
     ]
    },
    {
     "name": "stdout",
     "output_type": "stream",
     "text": [
      "486\n",
      "Error decoding JSON for index 486: Unterminated string starting at: line 1 column 1255 (char 1254)\n",
      "487\n"
     ]
    },
    {
     "name": "stderr",
     "output_type": "stream",
     "text": [
      "/var/folders/16/llg4mhsx5yvgfmnhmknw_l8w0000gn/T/ipykernel_9343/4014350804.py:10: SettingWithCopyWarning: \n",
      "A value is trying to be set on a copy of a slice from a DataFrame\n",
      "\n",
      "See the caveats in the documentation: https://pandas.pydata.org/pandas-docs/stable/user_guide/indexing.html#returning-a-view-versus-a-copy\n",
      "  dataset['korean'][i] = response.get('korean', 'Error: Korean data not found')\n",
      "/var/folders/16/llg4mhsx5yvgfmnhmknw_l8w0000gn/T/ipykernel_9343/4014350804.py:11: SettingWithCopyWarning: \n",
      "A value is trying to be set on a copy of a slice from a DataFrame\n",
      "\n",
      "See the caveats in the documentation: https://pandas.pydata.org/pandas-docs/stable/user_guide/indexing.html#returning-a-view-versus-a-copy\n",
      "  dataset['mixed'][i] = response.get('mixed', 'Error: Mixed data not found')\n"
     ]
    },
    {
     "name": "stdout",
     "output_type": "stream",
     "text": [
      "488\n"
     ]
    },
    {
     "name": "stderr",
     "output_type": "stream",
     "text": [
      "/var/folders/16/llg4mhsx5yvgfmnhmknw_l8w0000gn/T/ipykernel_9343/4014350804.py:10: SettingWithCopyWarning: \n",
      "A value is trying to be set on a copy of a slice from a DataFrame\n",
      "\n",
      "See the caveats in the documentation: https://pandas.pydata.org/pandas-docs/stable/user_guide/indexing.html#returning-a-view-versus-a-copy\n",
      "  dataset['korean'][i] = response.get('korean', 'Error: Korean data not found')\n",
      "/var/folders/16/llg4mhsx5yvgfmnhmknw_l8w0000gn/T/ipykernel_9343/4014350804.py:11: SettingWithCopyWarning: \n",
      "A value is trying to be set on a copy of a slice from a DataFrame\n",
      "\n",
      "See the caveats in the documentation: https://pandas.pydata.org/pandas-docs/stable/user_guide/indexing.html#returning-a-view-versus-a-copy\n",
      "  dataset['mixed'][i] = response.get('mixed', 'Error: Mixed data not found')\n"
     ]
    },
    {
     "name": "stdout",
     "output_type": "stream",
     "text": [
      "489\n"
     ]
    },
    {
     "name": "stderr",
     "output_type": "stream",
     "text": [
      "/var/folders/16/llg4mhsx5yvgfmnhmknw_l8w0000gn/T/ipykernel_9343/4014350804.py:10: SettingWithCopyWarning: \n",
      "A value is trying to be set on a copy of a slice from a DataFrame\n",
      "\n",
      "See the caveats in the documentation: https://pandas.pydata.org/pandas-docs/stable/user_guide/indexing.html#returning-a-view-versus-a-copy\n",
      "  dataset['korean'][i] = response.get('korean', 'Error: Korean data not found')\n",
      "/var/folders/16/llg4mhsx5yvgfmnhmknw_l8w0000gn/T/ipykernel_9343/4014350804.py:11: SettingWithCopyWarning: \n",
      "A value is trying to be set on a copy of a slice from a DataFrame\n",
      "\n",
      "See the caveats in the documentation: https://pandas.pydata.org/pandas-docs/stable/user_guide/indexing.html#returning-a-view-versus-a-copy\n",
      "  dataset['mixed'][i] = response.get('mixed', 'Error: Mixed data not found')\n"
     ]
    },
    {
     "name": "stdout",
     "output_type": "stream",
     "text": [
      "490\n",
      "Error decoding JSON for index 490: Expecting ',' delimiter: line 1 column 1240 (char 1239)\n",
      "491\n"
     ]
    },
    {
     "name": "stderr",
     "output_type": "stream",
     "text": [
      "/var/folders/16/llg4mhsx5yvgfmnhmknw_l8w0000gn/T/ipykernel_9343/4014350804.py:10: SettingWithCopyWarning: \n",
      "A value is trying to be set on a copy of a slice from a DataFrame\n",
      "\n",
      "See the caveats in the documentation: https://pandas.pydata.org/pandas-docs/stable/user_guide/indexing.html#returning-a-view-versus-a-copy\n",
      "  dataset['korean'][i] = response.get('korean', 'Error: Korean data not found')\n",
      "/var/folders/16/llg4mhsx5yvgfmnhmknw_l8w0000gn/T/ipykernel_9343/4014350804.py:11: SettingWithCopyWarning: \n",
      "A value is trying to be set on a copy of a slice from a DataFrame\n",
      "\n",
      "See the caveats in the documentation: https://pandas.pydata.org/pandas-docs/stable/user_guide/indexing.html#returning-a-view-versus-a-copy\n",
      "  dataset['mixed'][i] = response.get('mixed', 'Error: Mixed data not found')\n"
     ]
    },
    {
     "name": "stdout",
     "output_type": "stream",
     "text": [
      "492\n",
      "Error decoding JSON for index 492: Unterminated string starting at: line 1 column 12 (char 11)\n",
      "493\n"
     ]
    },
    {
     "name": "stderr",
     "output_type": "stream",
     "text": [
      "/var/folders/16/llg4mhsx5yvgfmnhmknw_l8w0000gn/T/ipykernel_9343/4014350804.py:10: SettingWithCopyWarning: \n",
      "A value is trying to be set on a copy of a slice from a DataFrame\n",
      "\n",
      "See the caveats in the documentation: https://pandas.pydata.org/pandas-docs/stable/user_guide/indexing.html#returning-a-view-versus-a-copy\n",
      "  dataset['korean'][i] = response.get('korean', 'Error: Korean data not found')\n",
      "/var/folders/16/llg4mhsx5yvgfmnhmknw_l8w0000gn/T/ipykernel_9343/4014350804.py:11: SettingWithCopyWarning: \n",
      "A value is trying to be set on a copy of a slice from a DataFrame\n",
      "\n",
      "See the caveats in the documentation: https://pandas.pydata.org/pandas-docs/stable/user_guide/indexing.html#returning-a-view-versus-a-copy\n",
      "  dataset['mixed'][i] = response.get('mixed', 'Error: Mixed data not found')\n"
     ]
    },
    {
     "name": "stdout",
     "output_type": "stream",
     "text": [
      "494\n"
     ]
    },
    {
     "name": "stderr",
     "output_type": "stream",
     "text": [
      "/var/folders/16/llg4mhsx5yvgfmnhmknw_l8w0000gn/T/ipykernel_9343/4014350804.py:10: SettingWithCopyWarning: \n",
      "A value is trying to be set on a copy of a slice from a DataFrame\n",
      "\n",
      "See the caveats in the documentation: https://pandas.pydata.org/pandas-docs/stable/user_guide/indexing.html#returning-a-view-versus-a-copy\n",
      "  dataset['korean'][i] = response.get('korean', 'Error: Korean data not found')\n",
      "/var/folders/16/llg4mhsx5yvgfmnhmknw_l8w0000gn/T/ipykernel_9343/4014350804.py:11: SettingWithCopyWarning: \n",
      "A value is trying to be set on a copy of a slice from a DataFrame\n",
      "\n",
      "See the caveats in the documentation: https://pandas.pydata.org/pandas-docs/stable/user_guide/indexing.html#returning-a-view-versus-a-copy\n",
      "  dataset['mixed'][i] = response.get('mixed', 'Error: Mixed data not found')\n"
     ]
    },
    {
     "name": "stdout",
     "output_type": "stream",
     "text": [
      "495\n",
      "Error decoding JSON for index 495: Expecting ',' delimiter: line 1 column 250 (char 249)\n",
      "496\n"
     ]
    },
    {
     "name": "stderr",
     "output_type": "stream",
     "text": [
      "/var/folders/16/llg4mhsx5yvgfmnhmknw_l8w0000gn/T/ipykernel_9343/4014350804.py:10: SettingWithCopyWarning: \n",
      "A value is trying to be set on a copy of a slice from a DataFrame\n",
      "\n",
      "See the caveats in the documentation: https://pandas.pydata.org/pandas-docs/stable/user_guide/indexing.html#returning-a-view-versus-a-copy\n",
      "  dataset['korean'][i] = response.get('korean', 'Error: Korean data not found')\n",
      "/var/folders/16/llg4mhsx5yvgfmnhmknw_l8w0000gn/T/ipykernel_9343/4014350804.py:11: SettingWithCopyWarning: \n",
      "A value is trying to be set on a copy of a slice from a DataFrame\n",
      "\n",
      "See the caveats in the documentation: https://pandas.pydata.org/pandas-docs/stable/user_guide/indexing.html#returning-a-view-versus-a-copy\n",
      "  dataset['mixed'][i] = response.get('mixed', 'Error: Mixed data not found')\n"
     ]
    },
    {
     "name": "stdout",
     "output_type": "stream",
     "text": [
      "497\n"
     ]
    },
    {
     "name": "stderr",
     "output_type": "stream",
     "text": [
      "/var/folders/16/llg4mhsx5yvgfmnhmknw_l8w0000gn/T/ipykernel_9343/4014350804.py:10: SettingWithCopyWarning: \n",
      "A value is trying to be set on a copy of a slice from a DataFrame\n",
      "\n",
      "See the caveats in the documentation: https://pandas.pydata.org/pandas-docs/stable/user_guide/indexing.html#returning-a-view-versus-a-copy\n",
      "  dataset['korean'][i] = response.get('korean', 'Error: Korean data not found')\n",
      "/var/folders/16/llg4mhsx5yvgfmnhmknw_l8w0000gn/T/ipykernel_9343/4014350804.py:11: SettingWithCopyWarning: \n",
      "A value is trying to be set on a copy of a slice from a DataFrame\n",
      "\n",
      "See the caveats in the documentation: https://pandas.pydata.org/pandas-docs/stable/user_guide/indexing.html#returning-a-view-versus-a-copy\n",
      "  dataset['mixed'][i] = response.get('mixed', 'Error: Mixed data not found')\n"
     ]
    },
    {
     "name": "stdout",
     "output_type": "stream",
     "text": [
      "498\n"
     ]
    },
    {
     "name": "stderr",
     "output_type": "stream",
     "text": [
      "/var/folders/16/llg4mhsx5yvgfmnhmknw_l8w0000gn/T/ipykernel_9343/4014350804.py:10: SettingWithCopyWarning: \n",
      "A value is trying to be set on a copy of a slice from a DataFrame\n",
      "\n",
      "See the caveats in the documentation: https://pandas.pydata.org/pandas-docs/stable/user_guide/indexing.html#returning-a-view-versus-a-copy\n",
      "  dataset['korean'][i] = response.get('korean', 'Error: Korean data not found')\n",
      "/var/folders/16/llg4mhsx5yvgfmnhmknw_l8w0000gn/T/ipykernel_9343/4014350804.py:11: SettingWithCopyWarning: \n",
      "A value is trying to be set on a copy of a slice from a DataFrame\n",
      "\n",
      "See the caveats in the documentation: https://pandas.pydata.org/pandas-docs/stable/user_guide/indexing.html#returning-a-view-versus-a-copy\n",
      "  dataset['mixed'][i] = response.get('mixed', 'Error: Mixed data not found')\n"
     ]
    },
    {
     "name": "stdout",
     "output_type": "stream",
     "text": [
      "499\n",
      "===================== Augmentation is done. ====================\n"
     ]
    },
    {
     "name": "stderr",
     "output_type": "stream",
     "text": [
      "/var/folders/16/llg4mhsx5yvgfmnhmknw_l8w0000gn/T/ipykernel_9343/4014350804.py:10: SettingWithCopyWarning: \n",
      "A value is trying to be set on a copy of a slice from a DataFrame\n",
      "\n",
      "See the caveats in the documentation: https://pandas.pydata.org/pandas-docs/stable/user_guide/indexing.html#returning-a-view-versus-a-copy\n",
      "  dataset['korean'][i] = response.get('korean', 'Error: Korean data not found')\n",
      "/var/folders/16/llg4mhsx5yvgfmnhmknw_l8w0000gn/T/ipykernel_9343/4014350804.py:11: SettingWithCopyWarning: \n",
      "A value is trying to be set on a copy of a slice from a DataFrame\n",
      "\n",
      "See the caveats in the documentation: https://pandas.pydata.org/pandas-docs/stable/user_guide/indexing.html#returning-a-view-versus-a-copy\n",
      "  dataset['mixed'][i] = response.get('mixed', 'Error: Mixed data not found')\n"
     ]
    }
   ],
   "source": [
    "import time\n",
    "\n",
    "start_time = time.time()\n",
    "for i in range(250, 400):\n",
    "    response = gpt_response(dataset['note'][i].replace('\\n', ''))\n",
    "    print(i)\n",
    "\n",
    "    try:\n",
    "        response = json.loads(response.replace('\\n', ''))\n",
    "        dataset['korean'][i] = response.get('korean', 'Error: Korean data not found')\n",
    "        dataset['mixed'][i] = response.get('mixed', 'Error: Mixed data not found')\n",
    "        if i>250 and i % 50 == 0:\n",
    "            elapsed_time = time.time() - start_time\n",
    "            print(f\"Elapsed Time for {i} iterations: {elapsed_time} seconds\")\n",
    "            num = i\n",
    "            gpt_data = dataset[i-50:i]\n",
    "            gpt_data.to_excel(f'gpt_data_{i}.xlsx')\n",
    "            start_time = elapsed_time\n",
    "    except json.JSONDecodeError as e:\n",
    "        print(f\"Error decoding JSON for index {i}: {e}\")\n",
    "        # 에러 발생 시 스킵하고 다음 i에 대해 반복\n",
    "        continue\n",
    "    except KeyError as e:\n",
    "        print(f\"Error accessing key in response for index {i}: {e}\")\n",
    "        dataset['response'][i] = response\n",
    "        # 에러 발생 시 스킵하고 다음 i에 대해 반복\n",
    "        continue\n",
    "\n",
    "print('===================== Augmentation is done. ====================')\n",
    "gpt_data = dataset[350:400]\n",
    "gpt_data.to_excel(f'gpt_data_400.xlsx')"
   ],
   "metadata": {
    "collapsed": false,
    "ExecuteTime": {
     "start_time": "2024-02-10T02:35:47.592992Z",
     "end_time": "2024-02-10T04:17:32.228107Z"
    }
   }
  },
  {
   "cell_type": "code",
   "execution_count": 8,
   "outputs": [],
   "source": [
    "gpt_data = dataset[200:250]\n",
    "gpt_data.to_excel(f'gpt_data_250.xlsx')"
   ],
   "metadata": {
    "collapsed": false,
    "ExecuteTime": {
     "start_time": "2024-02-10T02:35:25.202200Z",
     "end_time": "2024-02-10T02:35:25.228768Z"
    }
   }
  },
  {
   "cell_type": "markdown",
   "source": [
    "## data concat"
   ],
   "metadata": {
    "collapsed": false
   }
  },
  {
   "cell_type": "code",
   "execution_count": 2,
   "outputs": [],
   "source": [
    "import os\n",
    "\n",
    "# 현재 디렉토리에서 파일 목록 가져오기\n",
    "file_list = os.listdir()\n",
    "\n",
    "# \".xlsx\"로 끝나는 파일들만 골라내기\n",
    "xlsx_files = [file for file in file_list if file.startswith(\"gpt_data\") and file.endswith(\".xlsx\")]"
   ],
   "metadata": {
    "collapsed": false,
    "ExecuteTime": {
     "start_time": "2024-02-13T18:42:08.892985Z",
     "end_time": "2024-02-13T18:42:08.905402Z"
    }
   }
  },
  {
   "cell_type": "code",
   "execution_count": 8,
   "outputs": [],
   "source": [
    "xlsx_files = ['gpt_data_200.xlsx',\n",
    " 'gpt_data_450.xlsx',\n",
    " 'gpt_data_400.xlsx',\n",
    " 'gpt_data_250.xlsx',\n",
    " 'gpt_data_300.xlsx',\n",
    " 'gpt_data_100.xlsx',\n",
    " 'gpt_data_500.xlsx',\n",
    " 'gpt_data_150.xlsx',\n",
    " 'gpt_data_350.xlsx']"
   ],
   "metadata": {
    "collapsed": false,
    "ExecuteTime": {
     "start_time": "2024-02-13T18:52:18.292072Z",
     "end_time": "2024-02-13T18:52:18.297635Z"
    }
   }
  },
  {
   "cell_type": "code",
   "execution_count": 9,
   "outputs": [],
   "source": [
    "df = pd.read_excel('gpt_data_50.xlsx')\n",
    "\n",
    "for file in xlsx_files:\n",
    "    # 행 방향으로 합치기 (아래로 연결)\n",
    "    df_sub = pd.read_excel(file)\n",
    "    df = pd.concat([df, df_sub], ignore_index=True)"
   ],
   "metadata": {
    "collapsed": false,
    "ExecuteTime": {
     "start_time": "2024-02-13T18:52:23.963496Z",
     "end_time": "2024-02-13T18:52:24.078225Z"
    }
   }
  },
  {
   "cell_type": "code",
   "execution_count": 10,
   "outputs": [
    {
     "data": {
      "text/plain": "500"
     },
     "execution_count": 10,
     "metadata": {},
     "output_type": "execute_result"
    }
   ],
   "source": [
    "len(df)"
   ],
   "metadata": {
    "collapsed": false,
    "ExecuteTime": {
     "start_time": "2024-02-13T18:52:24.574838Z",
     "end_time": "2024-02-13T18:52:24.579108Z"
    }
   }
  },
  {
   "cell_type": "code",
   "execution_count": 11,
   "outputs": [],
   "source": [
    "df.to_excel('gpt_data_.xlsx')"
   ],
   "metadata": {
    "collapsed": false,
    "ExecuteTime": {
     "start_time": "2024-02-13T18:52:31.607639Z",
     "end_time": "2024-02-13T18:52:31.837094Z"
    }
   }
  },
  {
   "cell_type": "code",
   "execution_count": null,
   "outputs": [],
   "source": [],
   "metadata": {
    "collapsed": false
   }
  }
 ],
 "metadata": {
  "kernelspec": {
   "display_name": "Python 3",
   "language": "python",
   "name": "python3"
  },
  "language_info": {
   "codemirror_mode": {
    "name": "ipython",
    "version": 2
   },
   "file_extension": ".py",
   "mimetype": "text/x-python",
   "name": "python",
   "nbconvert_exporter": "python",
   "pygments_lexer": "ipython2",
   "version": "2.7.6"
  }
 },
 "nbformat": 4,
 "nbformat_minor": 0
}
